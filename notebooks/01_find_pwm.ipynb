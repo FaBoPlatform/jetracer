{
 "cells": [
  {
   "cell_type": "markdown",
   "metadata": {},
   "source": [
    "# PWMの値の設定"
   ]
  },
  {
   "cell_type": "markdown",
   "metadata": {},
   "source": [
    "## Boardの判定"
   ]
  },
  {
   "cell_type": "code",
   "execution_count": 37,
   "metadata": {},
   "outputs": [
    {
     "name": "stdout",
     "output_type": "stream",
     "text": [
      "Jetson Orin Nanoを認識\n"
     ]
    }
   ],
   "source": [
    "import Jetson.GPIO as GPIO\n",
    "\n",
    "BOARD_NAME=GPIO.gpio_pin_data.get_data()[0]\n",
    "if BOARD_NAME == \"JETSON_NX\":\n",
    "    print(\"Jetson Xavier NXを認識\")\n",
    "    I2C_BUSNUM = 8\n",
    "elif BOARD_NAME == \"JETSON_XAVIER\":\n",
    "    print(\"Jetson AGX Xavierを認識\")\n",
    "    I2C_BUSNUM = 8\n",
    "elif BOARD_NAME == \"JETSON_NANO\":\n",
    "    print(\"Jetson Nanoを認識\")\n",
    "    I2C_BUSNUM = 1\n",
    "elif BOARD_NAME == \"JETSON_ORIN\":\n",
    "    print(\"Jetson AGX Orinを認識\")\n",
    "    I2C_BUSNUM = 7\n",
    "elif BOARD_NAME == \"JETSON_ORIN_NANO\":\n",
    "    print(\"Jetson Orin Nanoを認識\")\n",
    "    I2C_BUSNUM = 7"
   ]
  },
  {
   "cell_type": "markdown",
   "metadata": {},
   "source": [
    "## I2Cの認識確認\n",
    "\n",
    "0x08: PWMの値の吸い上げ<br>\n",
    "0x3c: OLED　Display<br>\n",
    "0x40: PCA9685(PWMの出力)<br>\n",
    "0x70: PCA9685(PWMの出力)<br>"
   ]
  },
  {
   "cell_type": "code",
   "execution_count": 38,
   "metadata": {},
   "outputs": [
    {
     "name": "stdout",
     "output_type": "stream",
     "text": [
      "     0  1  2  3  4  5  6  7  8  9  a  b  c  d  e  f\n",
      "00:          -- -- -- -- -- 08 -- -- -- -- -- -- -- \n",
      "10: -- -- -- -- -- -- -- -- -- -- -- -- -- -- -- -- \n",
      "20: 20 -- -- -- -- -- -- -- -- 29 -- -- -- -- -- -- \n",
      "30: -- -- -- -- -- -- -- -- -- -- -- -- 3c -- -- -- \n",
      "40: 40 -- -- -- -- -- -- -- -- -- -- -- -- -- -- -- \n",
      "50: -- -- -- -- -- -- -- -- -- -- -- -- -- -- -- -- \n",
      "60: -- -- -- -- -- -- -- -- -- -- -- -- -- -- -- -- \n",
      "70: 70 -- -- -- -- -- -- --                         \n"
     ]
    }
   ],
   "source": [
    "!i2cdetect -y -r $I2C_BUSNUM"
   ]
  },
  {
   "cell_type": "markdown",
   "metadata": {},
   "source": [
    "## ラジコンの制御\n",
    "\n",
    "Jetson Nano 2G, 4GはBUSNUMを1に指定しています。<br>\n",
    "Jetson NXは、BUSNUMを8に指定しています。<br>\n",
    "\n",
    "タミヤのラジコンは60Hzを指定して制御します。<br>"
   ]
  },
  {
   "cell_type": "markdown",
   "metadata": {},
   "source": [
    "## PWMの値の読み込み\n",
    "\n",
    "過去に設定されたPWMの値がある場合は読み込みます。"
   ]
  },
  {
   "cell_type": "code",
   "execution_count": 58,
   "metadata": {},
   "outputs": [
    {
     "name": "stdout",
     "output_type": "stream",
     "text": [
      "=================\n",
      "Load pwm_params.json\n",
      "=================\n",
      "stop: 390, front: 442, back: 362\n",
      "front_width: 52, back_width: -28\n",
      "left: 502, center: 380, right: 258\n",
      "steering_width: 122, reverse_flag: True\n"
     ]
    }
   ],
   "source": [
    "import Fabo_PCA9685\n",
    "import time\n",
    "import pkg_resources\n",
    "import smbus\n",
    "import time\n",
    "import json\n",
    "\n",
    "INITIAL_VALUE = 400\n",
    "\n",
    "try:\n",
    "    with open('pwm_params.json') as f:\n",
    "        json_str = json.load(f)\n",
    "        print(\"=================\")\n",
    "        print(\"Load pwm_params.json\")\n",
    "        print(\"=================\")\n",
    "        pwm_stop = json_str[\"pwm_speed\"][\"stop\"]\n",
    "        pwm_front = json_str[\"pwm_speed\"][\"front\"]\n",
    "        pwm_back = json_str[\"pwm_speed\"][\"back\"]\n",
    "        pwm_left = json_str[\"pwm_steering\"][\"left\"]\n",
    "        pwm_center = json_str[\"pwm_steering\"][\"center\"]\n",
    "        pwm_right = json_str[\"pwm_steering\"][\"right\"]\n",
    "        steering_width = abs(pwm_center - pwm_left)\n",
    "        if pwm_right > pwm_left:\n",
    "            reverse_flag = False\n",
    "        else:\n",
    "            reverse_flag = True\n",
    "        front_width = pwm_front - pwm_stop\n",
    "        back_width = pwm_back - pwm_stop\n",
    "        print(f\"stop: {pwm_stop}, front: {pwm_front}, back: {pwm_back}\")\n",
    "        print(f\"front_width: {front_width}, back_width: {back_width}\")\n",
    "        print(f\"left: {pwm_left}, center: {pwm_center}, right: {pwm_right}\")\n",
    "        print(f\"steering_width: {steering_width}, reverse_flag: {reverse_flag}\")\n",
    "except Exception as e:\n",
    "    print(f\"Error:{e}\")\n",
    "    print(\"=================\")\n",
    "    print(\"New setting\")\n",
    "    print(\"=================\")\n",
    "    pwm_center = INITIAL_VALUE\n",
    "    pwm_right = INITIAL_VALUE + 100\n",
    "    pwm_left = INITIAL_VALUE - 100\n",
    "    pwm_stop = INITIAL_VALUE\n",
    "    pwm_front = pwm_stop \n",
    "    pwm_back = pwm_back\n",
    "    front_width = pwm_front - pwm_stop\n",
    "    back_width = pwm_back - pwm_stop\n",
    "    steering_width = 100\n",
    "    reverse_flag = False\n",
    "    print(f\"stop: {pwm_stop}, front: {pwm_front}, back: {pwm_back}\")\n",
    "    print(f\"left: {pwm_left}, center: {pwm_center}, right: {pwm_right}\")\n",
    "\n",
    "SMBUS='smbus'\n",
    "BUSNUM=I2C_BUSNUM\n",
    "SERVO_HZ=60\n",
    "bus = smbus.SMBus(BUSNUM)\n",
    "PCA9685 = Fabo_PCA9685.PCA9685(bus,pwm_stop,address=0x40)\n",
    "PCA9685.set_hz(SERVO_HZ)"
   ]
  },
  {
   "cell_type": "markdown",
   "metadata": {},
   "source": [
    "## 保存用の処理とWidgetを作成"
   ]
  },
  {
   "cell_type": "code",
   "execution_count": 59,
   "metadata": {},
   "outputs": [],
   "source": [
    "import json\n",
    "import ipywidgets\n",
    "\n",
    "save_button = ipywidgets.Button(description='値を保存')\n",
    "\n",
    "def save(change):\n",
    "    global left_widget, center_widget, right_widget, front_widget, stop_widget, back_widget\n",
    "    json_str = {\n",
    "        \"pwm_steering\": {\n",
    "            \"left\": left_widget.value,\n",
    "            \"center\": center_widget.value,\n",
    "            \"right\": right_widget.value,\n",
    "        },\n",
    "        \"pwm_speed\": {\n",
    "            \"front\": front_widget.value,\n",
    "            \"stop\": stop_widget.value,\n",
    "            \"back\": back_widget.value,\n",
    "        }\n",
    "    }\n",
    "\n",
    "    with open('pwm_params.json', 'w') as f:\n",
    "        json.dump(json_str, f, ensure_ascii=False)\n",
    "\n",
    "\n",
    "save_button.on_click(save)"
   ]
  },
  {
   "cell_type": "markdown",
   "metadata": {},
   "source": [
    "## 値を格納するWidgetを定義"
   ]
  },
  {
   "cell_type": "code",
   "execution_count": 60,
   "metadata": {},
   "outputs": [],
   "source": [
    "from ipywidgets import Button, Layout, Textarea, HBox, VBox\n",
    "import ipywidgets\n",
    "\n",
    "center_widget = ipywidgets.IntText(description='中央', value=pwm_center)\n",
    "right_widget = ipywidgets.IntText(description='右', value=pwm_right)\n",
    "left_widget = ipywidgets.IntText(description='左', value=pwm_left)\n",
    "size_slider = ipywidgets.IntSlider(description='振幅', min=0, max=150, step=1, value=steering_width, orientation='horizontal')\n",
    "check_button = ipywidgets.Button(description='Check Center')\n",
    "check_left_button = ipywidgets.Button(description='Check Left(左)')\n",
    "check_right_button = ipywidgets.Button(description='Check Right(右)')\n",
    "check_box = ipywidgets.Checkbox(reverse_flag, description='Reserve')\n",
    "\n",
    "stop_widget = ipywidgets.IntText(description='停止', value=pwm_stop)\n",
    "check_button = ipywidgets.Button(description='Set Stop')\n",
    "front_slider = ipywidgets.IntSlider(description='前進幅', min=-100, max=100, step=1, value=front_width, orientation='horizontal')\n",
    "front_widget = ipywidgets.IntText(description='前進', value=pwm_front)\n",
    "back_slider = ipywidgets.IntSlider(description='後進幅', min=-100, max=100, step=1, value=back_width, orientation='horizontal')\n",
    "back_widget = ipywidgets.IntText(description='後進', value=pwm_back)\n",
    "stop_button = ipywidgets.Button(description='Stop')\n",
    "set_front_button = ipywidgets.Button(description='Set front')\n",
    "set_back_button = ipywidgets.Button(description='Set back')"
   ]
  },
  {
   "cell_type": "markdown",
   "metadata": {},
   "source": [
    "## ハンドルのPWM値の設定"
   ]
  },
  {
   "cell_type": "code",
   "execution_count": 61,
   "metadata": {},
   "outputs": [],
   "source": [
    "import sys\n",
    "import threading\n",
    "import time\n",
    "\n",
    "STEERING_CH = 0\n",
    "THROTTLE_CH = 1\n",
    "\n",
    "pwm_left = 0\n",
    "pwm_center = 0\n",
    "pwm_right = 0\n",
    "\n",
    "reserve = 0\n",
    "\n",
    "def check_center(c):\n",
    "    global pwm_center,center_widget\n",
    "    pwm_center = center_widget.value\n",
    "    PCA9685.set_channel_value(STEERING_CH, center_widget.value)\n",
    "\n",
    "def check_left(c):\n",
    "    global pwm_left,left_widget\n",
    "    pwm_left = left_widget.value\n",
    "    PCA9685.set_channel_value(STEERING_CH, pwm_left)\n",
    "    \n",
    "def check_right(c):\n",
    "    global pwm_right,right_widget\n",
    "    pwm_right = right_widget.value\n",
    "    PCA9685.set_channel_value(STEERING_CH, pwm_right)\n",
    "    \n",
    "def check_left_right(c):\n",
    "    global pwm_left, pwm_center, pwm_right\n",
    "    pwm_left = left_widget.value\n",
    "    PCA9685.set_channel_value(STEERING_CH, pwm_left)\n",
    "    time.sleep(1)\n",
    "    pwm_right = right_widget.value\n",
    "    PCA9685.set_channel_value(STEERING_CH, pwm_right)\n",
    "    time.sleep(1)\n",
    "    pwm_center = center_widget.value\n",
    "    PCA9685.set_channel_value(STEERING_CH, center_widget.value)\n",
    "    \n",
    "def on_value_change(change):\n",
    "    global reserve, pwm_left, pwm_center, pwm_right\n",
    "    if reserve == 0:\n",
    "        pwm_left = int(center_widget.value - size_slider.value)\n",
    "        pwm_right = int(center_widget.value + size_slider.value)\n",
    "    elif reserve == 1:\n",
    "        pwm_left = int(center_widget.value + size_slider.value)\n",
    "        pwm_right = int(center_widget.value - size_slider.value)\n",
    "    \n",
    "    left_widget.value = pwm_left\n",
    "    right_widget.value = pwm_right\n",
    "\n",
    "def on_reserve(change):\n",
    "    global reserve, pwm_left, pwm_center, pwm_right\n",
    "    reserve^=True\n",
    "    if reserve == 0:\n",
    "        pwm_left = int(center_widget.value - size_slider.value)\n",
    "        pwm_right = int(center_widget.value + size_slider.value)\n",
    "    elif reserve == 1:\n",
    "        pwm_left = int(center_widget.value + size_slider.value)\n",
    "        pwm_right = int(center_widget.value - size_slider.value)\n",
    "    \n",
    "    left_widget.value = pwm_left\n",
    "    right_widget.value = pwm_right\n",
    "    \n",
    "center_widget.observe(on_value_change)\n",
    "size_slider.observe(on_value_change)\n",
    "check_box.observe(on_reserve)\n",
    "check_button.on_click(check_center)\n",
    "check_left_button.on_click(check_left)\n",
    "check_right_button.on_click(check_right)\n",
    "#left_widget.value = center_widget.value - size_slider.value\n",
    "#right_widget.value = center_widget.value + size_slider.value"
   ]
  },
  {
   "cell_type": "markdown",
   "metadata": {},
   "source": [
    "1. ハンドルがまっすぐになる用に中央のPWM値を、設定します。<br>\n",
    "Check Centerのボタンを押すと実際に値が反映されます。<br>\n",
    "2. 左右の振幅を調整しながら、Check Left, Check Rightボタンで左右の値を調整します。<br>"
   ]
  },
  {
   "cell_type": "code",
   "execution_count": 62,
   "metadata": {},
   "outputs": [
    {
     "data": {
      "application/vnd.jupyter.widget-view+json": {
       "model_id": "dc4a6396cfb54c2293a688e9fbdf454d",
       "version_major": 2,
       "version_minor": 0
      },
      "text/plain": [
       "VBox(children=(HBox(children=(IntText(value=380, description='中央'), Button(description='Set Stop', style=Butto…"
      ]
     },
     "metadata": {},
     "output_type": "display_data"
    }
   ],
   "source": [
    "check_steering_widget = ipywidgets.VBox([\n",
    "    ipywidgets.HBox([center_widget, check_button]),\n",
    "    ipywidgets.HBox([size_slider,check_box]),\n",
    "    ipywidgets.HBox([left_widget,check_left_button,right_widget,check_right_button]),\n",
    "    save_button\n",
    "])\n",
    "\n",
    "display(check_steering_widget)"
   ]
  },
  {
   "cell_type": "markdown",
   "metadata": {},
   "source": [
    "## 前進・後進・停止の値の設定"
   ]
  },
  {
   "cell_type": "code",
   "execution_count": 63,
   "metadata": {},
   "outputs": [],
   "source": [
    "def set_stop(c):\n",
    "    global stop_widget,pwm_stop,front_slider, back_slider\n",
    "    pwm_stop = stop_widget.value\n",
    "    front_widget.value = stop_widget.value + front_slider.value \n",
    "    back_widget.value = stop_widget.value + back_slider.value\n",
    "    PCA9685.set_channel_value(THROTTLE_CH, pwm_stop)\n",
    "    time.sleep(0.1)\n",
    "    PCA9685.set_channel_value(THROTTLE_CH, pwm_stop)\n",
    "    \n",
    "def set_front(change):\n",
    "    global stop_widget, front_slider, pwm_front\n",
    "    pwm_front = stop_widget.value + front_slider.value\n",
    "    PCA9685.set_channel_value(THROTTLE_CH, pwm_front)\n",
    "\n",
    "def set_back(change):\n",
    "    global stop_widget, back_slider, pwm_back\n",
    "    pwm_stop = stop_widget.value\n",
    "    PCA9685.set_channel_value(THROTTLE_CH, pwm_stop)\n",
    "    time.sleep(0.1)\n",
    "    PCA9685.set_channel_value(THROTTLE_CH, pwm_stop)\n",
    "    time.sleep(0.1)\n",
    "    pwm_back = stop_widget.value + back_slider.value\n",
    "    PCA9685.set_channel_value(THROTTLE_CH, pwm_back)\n",
    "    \n",
    "def on_front_change(change):\n",
    "    global front_slider, front_widget, stop_widget\n",
    "    front_widget.value = stop_widget.value + front_slider.value\n",
    "    \n",
    "def on_back_change(change):\n",
    "    global back_slider, back_widget, stop_widget\n",
    "    back_widget.value = stop_widget.value + back_slider.value\n",
    "    \n",
    "def stop(change):\n",
    "    global stop_widget,speed_slider,pwm_stop\n",
    "    PCA9685.set_channel_value(THROTTLE_CH, pwm_stop)\n",
    "    \n",
    "front_slider.observe(on_front_change)\n",
    "back_slider.observe(on_back_change)\n",
    "check_button.on_click(set_stop)\n",
    "stop_button.on_click(stop)\n",
    "set_front_button.on_click(set_front)\n",
    "set_back_button.on_click(set_back) "
   ]
  },
  {
   "cell_type": "markdown",
   "metadata": {},
   "source": [
    "1. 車輪が停止する位置の値を設定し Set Stopボタンで設定します。\n",
    "2. 前進幅の値を移動して、前進の値を調整します。Set frontボタンで設定します。\n",
    "前進の値は、停止の値より小さくなる場合もあります(ラジコン仕様に依存)。\n",
    "3. 後新幅の値を移動して、更新の値を調整し、Set backボタンで設定します。"
   ]
  },
  {
   "cell_type": "code",
   "execution_count": 64,
   "metadata": {},
   "outputs": [
    {
     "data": {
      "application/vnd.jupyter.widget-view+json": {
       "model_id": "07fbf7913f4948919648cd11c04bd1e0",
       "version_major": 2,
       "version_minor": 0
      },
      "text/plain": [
       "VBox(children=(HBox(children=(IntText(value=390, description='停止'), Button(description='Set Stop', style=Butto…"
      ]
     },
     "metadata": {},
     "output_type": "display_data"
    }
   ],
   "source": [
    "check_speed_widget = ipywidgets.VBox([\n",
    "    ipywidgets.HBox([stop_widget, check_button]),\n",
    "    ipywidgets.HBox([front_slider,front_widget,set_front_button]),\n",
    "    ipywidgets.HBox([back_slider,back_widget,set_back_button]),\n",
    "    ipywidgets.HBox([stop_button]),\n",
    "    save_button\n",
    "])\n",
    "\n",
    "display(check_speed_widget)"
   ]
  },
  {
   "cell_type": "markdown",
   "metadata": {},
   "source": [
    "## 設定された値の確認\n",
    "\n",
    "設定された値の確認をおこないます。"
   ]
  },
  {
   "cell_type": "code",
   "execution_count": 65,
   "metadata": {},
   "outputs": [
    {
     "data": {
      "application/vnd.jupyter.widget-view+json": {
       "model_id": "01d482db26e245269c2f51c30ff60bb4",
       "version_major": 2,
       "version_minor": 0
      },
      "text/plain": [
       "VBox(children=(HBox(children=(IntText(value=502, description='左'), IntText(value=380, description='中央'), IntTe…"
      ]
     },
     "metadata": {},
     "output_type": "display_data"
    }
   ],
   "source": [
    "import json\n",
    "\n",
    "save_button = ipywidgets.Button(description='Save')\n",
    "\n",
    "def save(change):\n",
    "    global left_widget, center_widget, right_widget, front_widget, stop_widget, back_widget\n",
    "    json_str = {\n",
    "        \"pwm_steering\": {\n",
    "            \"left\": left_widget.value,\n",
    "            \"center\": center_widget.value,\n",
    "            \"right\": right_widget.value,\n",
    "        },\n",
    "        \"pwm_speed\": {\n",
    "            \"front\": front_widget.value,\n",
    "            \"stop\": stop_widget.value,\n",
    "            \"back\": back_widget.value,\n",
    "        }\n",
    "    }\n",
    "\n",
    "    with open('pwm_params.json', 'w') as f:\n",
    "        json.dump(json_str, f, ensure_ascii=False)\n",
    "\n",
    "\n",
    "save_button.on_click(save)\n",
    "        \n",
    "check_value_widget = ipywidgets.VBox([\n",
    "    ipywidgets.HBox([left_widget, center_widget, right_widget]),\n",
    "    ipywidgets.HBox([front_widget, stop_widget, back_widget]),\n",
    "])\n",
    "\n",
    "display(check_value_widget)"
   ]
  },
  {
   "cell_type": "markdown",
   "metadata": {},
   "source": [
    "## 動作確認\n",
    "\n",
    "設定したを実際に設定し、動きを確認します。"
   ]
  },
  {
   "cell_type": "code",
   "execution_count": 66,
   "metadata": {},
   "outputs": [],
   "source": [
    "with open('pwm_params.json') as f:\n",
    "    json_str = json.load(f)\n",
    "    \n",
    "    front = json_str[\"pwm_speed\"][\"front\"]\n",
    "    stop = json_str[\"pwm_speed\"][\"stop\"]\n",
    "    back = json_str[\"pwm_speed\"][\"back\"]\n",
    "    left = json_str[\"pwm_steering\"][\"left\"]\n",
    "    center = json_str[\"pwm_steering\"][\"center\"]\n",
    "    right = json_str[\"pwm_steering\"][\"right\"]"
   ]
  },
  {
   "cell_type": "code",
   "execution_count": 67,
   "metadata": {},
   "outputs": [],
   "source": [
    "check_left_widget = ipywidgets.IntText(description='左', value=left)\n",
    "check_center_widget = ipywidgets.IntText(description='中央', value=center)\n",
    "check_right_widget = ipywidgets.IntText(description='右', value=right)\n",
    "\n",
    "speed_raw_slider = ipywidgets.IntSlider(description='Speed raw', min=1, max=224, step=1, value=80, orientation='horizontal')\n",
    "\n",
    "check_front_widget = ipywidgets.IntText(description='前進', value=front)\n",
    "check_stop_widget = ipywidgets.IntText(description='停止', value=stop)\n",
    "check_back_widget = ipywidgets.IntText(description='後進', value=back)\n",
    "\n",
    "run_button = ipywidgets.Button(description='Run')\n",
    "stop_button = ipywidgets.Button(description='Stop')\n",
    "check_center_button = ipywidgets.Button(description='Check')\n",
    "check_left_button = ipywidgets.Button(description='Check')\n",
    "check_right_button = ipywidgets.Button(description='Check')\n",
    "check_front_button = ipywidgets.Button(description='Check')\n",
    "check_stop_button = ipywidgets.Button(description='Check')\n",
    "check_back_button = ipywidgets.Button(description='Check')\n",
    "\n",
    "def map_rc(x, in_min, in_max, out_min, out_max):\n",
    "    return (x - in_min) * (out_max - out_min) // (in_max - in_min) + out_min\n",
    "def throttle(speed):\n",
    "    global pwm_front,pwm_back,THROTTLE_CH,PCA9685\n",
    "    speed = map_rc(speed, 224, 0, pwm_front, pwm_stop)\n",
    "    PCA9685.set_channel_value(THROTTLE_CH, speed)\n",
    "def check_stop(change):\n",
    "    PCA9685.set_channel_value(THROTTLE_CH, pwm_stop)\n",
    "def check_run(change):\n",
    "    throttle(speed_raw_slider.value)\n",
    "\n",
    "    \n",
    "def check_front(change):\n",
    "    global check_front_widget\n",
    "    PCA9685.set_channel_value(THROTTLE_CH, check_front_widget.value)\n",
    "def check_back(change):\n",
    "    global check_back_widget,check_stop_widget\n",
    "    PCA9685.set_channel_value(THROTTLE_CH, check_stop_widget.value)\n",
    "    time.sleep(0.1)\n",
    "    PCA9685.set_channel_value(THROTTLE_CH, check_stop_widget.value)\n",
    "    time.sleep(0.1)\n",
    "    PCA9685.set_channel_value(THROTTLE_CH, check_back_widget.value)\n",
    "def check_center(change):\n",
    "    global check_center_widget\n",
    "    PCA9685.set_channel_value(STEERING_CH, check_center_widget.value)\n",
    "def check_left(change):\n",
    "    global check_left_widget\n",
    "    PCA9685.set_channel_value(STEERING_CH, check_left_widget.value)\n",
    "def check_right(change):\n",
    "    global check_right_widget\n",
    "    PCA9685.set_channel_value(STEERING_CH, check_right_widget.value)\n",
    "    \n",
    "check_stop_button.on_click(check_stop)\n",
    "check_front_button.on_click(check_front)\n",
    "check_back_button.on_click(check_back)\n",
    "check_center_button.on_click(check_center)\n",
    "check_left_button.on_click(check_left)\n",
    "check_right_button.on_click(check_right)\n",
    "\n",
    "run_button.on_click(check_run)\n",
    "stop_button.on_click(check_stop)"
   ]
  },
  {
   "cell_type": "code",
   "execution_count": 68,
   "metadata": {},
   "outputs": [
    {
     "data": {
      "application/vnd.jupyter.widget-view+json": {
       "model_id": "e88fe26a31404a0fb5cff559ac717446",
       "version_major": 2,
       "version_minor": 0
      },
      "text/plain": [
       "VBox(children=(HBox(children=(VBox(children=(IntText(value=502, description='左'), Button(description='Check', …"
      ]
     },
     "metadata": {},
     "output_type": "display_data"
    }
   ],
   "source": [
    "check_final_widget = ipywidgets.VBox([\n",
    "    ipywidgets.HBox([\n",
    "        ipywidgets.VBox([check_left_widget,check_left_button]),\n",
    "        ipywidgets.VBox([check_center_widget,check_center_button]),\n",
    "        ipywidgets.VBox([check_right_widget,check_right_button])]),\n",
    "    ipywidgets.HBox([check_front_widget,check_stop_widget,check_back_widget]),\n",
    "    speed_raw_slider,\n",
    "    ipywidgets.HBox([run_button,stop_button])\n",
    "])\n",
    "\n",
    "display(check_final_widget)"
   ]
  },
  {
   "cell_type": "code",
   "execution_count": null,
   "metadata": {},
   "outputs": [],
   "source": []
  },
  {
   "cell_type": "code",
   "execution_count": null,
   "metadata": {},
   "outputs": [],
   "source": []
  },
  {
   "cell_type": "code",
   "execution_count": null,
   "metadata": {},
   "outputs": [],
   "source": []
  }
 ],
 "metadata": {
  "kernelspec": {
   "display_name": "Python 3",
   "language": "python",
   "name": "python3"
  },
  "language_info": {
   "codemirror_mode": {
    "name": "ipython",
    "version": 3
   },
   "file_extension": ".py",
   "mimetype": "text/x-python",
   "name": "python",
   "nbconvert_exporter": "python",
   "pygments_lexer": "ipython3",
   "version": "3.8.10"
  }
 },
 "nbformat": 4,
 "nbformat_minor": 4
}
