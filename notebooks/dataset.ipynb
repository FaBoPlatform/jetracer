{
 "cells": [
  {
   "cell_type": "markdown",
   "metadata": {},
   "source": [
    "Datasetを表示する"
   ]
  },
  {
   "cell_type": "markdown",
   "metadata": {},
   "source": [
    "推論の結果と合わせて表示する"
   ]
  },
  {
   "cell_type": "code",
   "execution_count": 1,
   "metadata": {},
   "outputs": [],
   "source": [
    "import torch\n",
    "import torchvision\n",
    "\n",
    "MODEL = \"road_following_model.pth\"\n",
    "\n",
    "device = torch.device('cuda')\n",
    "output_dim = 2\n",
    "\n",
    "model = torchvision.models.resnet18(pretrained=True)\n",
    "model.fc = torch.nn.Linear(512, output_dim)\n",
    "\n",
    "model = model.to(device)\n",
    "model.load_state_dict(torch.load(MODEL))"
   ]
  },
  {
   "cell_type": "code",
   "execution_count": null,
   "metadata": {},
   "outputs": [],
   "source": [
    "import os\n",
    "import matplotlib.pyplot as plt\n",
    "import matplotlib.image as mpimg\n",
    "import matplotlib.patches as patches\n",
    "import re\n",
    "from utils import preprocess\n",
    "\n",
    "DIR = \"/home/jetson/jetracer/notebooks/\"\n",
    "NAME= \"road_following\"\n",
    "APEX = \"apex\"\n",
    "CATEGORY = \"A\"\n",
    "WIDTH = 1\n",
    "HEIGHT = 5\n",
    "IMG_WIDTH = 224\n",
    "IMG_HEIGHT = 224\n",
    "\n",
    "# 読み込みを始める最初の数\n",
    "start_pos = 0\n",
    "\n",
    "path = DIR + NAME + \"_\" + CATEGORY + \"/\" + APEX\n",
    "\n",
    "plt.figure(figsize=(IMG_WIDTH/10, IMG_HEIGHT/10), dpi=100)\n",
    "filenames = os.listdir(path)\n",
    "for i, name in enumerate(filenames):\n",
    "    if i >= start_pos and i < WIDTH * HEIGHT + start_pos:\n",
    "        \n",
    "        pattern = '(\\d+)_(\\d+).*'\n",
    "        result = re.match(pattern, name)\n",
    "        \n",
    "        if result:\n",
    "            x = result.group(1)\n",
    "            y = result.group(2)\n",
    "        \n",
    "        img = mpimg.imread(path + \"/\" + name)\n",
    "        preprocessed = preprocess(img)\n",
    "        output = model(preprocessed).detach().cpu().numpy().flatten()\n",
    "        result_x = output[0]\n",
    "        result_y = output[1]\n",
    "        result_x = int(IMG_WIDTH * (result_x / 2.0 + 0.5))\n",
    "        result_y = int(IMG_HEIGHT * (result_y / 2.0 + 0.5))\n",
    "        \n",
    "        plt.subplot(WIDTH,HEIGHT,(i-start_pos)+1)\n",
    "        plt.tick_params(labelbottom=False,labelleft=False)\n",
    "        plt.tick_params(bottom=False,left=False,right=False,top=False)\n",
    "        ax = plt.gca() # get current axis\n",
    "        ax.spines[\"right\"].set_color(\"none\")  \n",
    "        ax.spines[\"left\"].set_color(\"none\")   \n",
    "        ax.spines[\"top\"].set_color(\"none\")    \n",
    "        ax.spines[\"bottom\"].set_color(\"none\") \n",
    "        c = patches.Circle(xy=(int(x), int(y)), linewidth=3, radius=20, ec='g',fill=False)\n",
    "        r = patches.Circle(xy=(int(result_x), int(result_y)), linewidth=3, radius=20, ec='b',fill=False)\n",
    "        ax.add_patch(c)\n",
    "        ax.add_patch(r)\n",
    "        plt.title(name,fontsize=8)\n",
    "        plt.imshow(img)\n"
   ]
  },
  {
   "cell_type": "code",
   "execution_count": null,
   "metadata": {},
   "outputs": [],
   "source": []
  }
 ],
 "metadata": {
  "kernelspec": {
   "display_name": "Python 3",
   "language": "python",
   "name": "python3"
  },
  "language_info": {
   "codemirror_mode": {
    "name": "ipython",
    "version": 3
   },
   "file_extension": ".py",
   "mimetype": "text/x-python",
   "name": "python",
   "nbconvert_exporter": "python",
   "pygments_lexer": "ipython3",
   "version": "3.6.8"
  }
 },
 "nbformat": 4,
 "nbformat_minor": 2
}
