{
 "cells": [
  {
   "cell_type": "markdown",
   "metadata": {},
   "source": [
    "# TensorRTへの変換\n",
    "\n"
   ]
  },
  {
   "cell_type": "code",
   "execution_count": null,
   "metadata": {
    "tags": []
   },
   "outputs": [],
   "source": [
    "import torch\n",
    "import torchvision\n",
    "\n",
    "CATEGORIES = ['xy','speed']\n",
    "\n",
    "device = torch.device('cuda')\n",
    "model = torchvision.models.resnet18(pretrained=False)\n",
    "model.fc = torch.nn.Linear(512, 2 * len(CATEGORIES))\n",
    "model = model.cuda().eval().half()"
   ]
  },
  {
   "cell_type": "code",
   "execution_count": null,
   "metadata": {},
   "outputs": [],
   "source": [
    "from torch2trt import torch2trt"
   ]
  },
  {
   "cell_type": "code",
   "execution_count": null,
   "metadata": {},
   "outputs": [],
   "source": [
    "import ipywidgets\n",
    "from ipywidgets import Button, Layout, Textarea, HBox, VBox, Label\n",
    "import os\n",
    "import glob\n",
    "\n",
    "l = Layout(flex='0 1 auto', height='100px', min_height='100px', width='auto')\n",
    "process_widget = ipywidgets.Textarea(description='ログ', value='', layout=l)\n",
    "\n",
    "process_no = 0\n",
    "def write_log(msg):\n",
    "    global process_widget, process_no\n",
    "    process_no = process_no + 1\n",
    "    process_widget.value = str(process_no) + \": \" + msg + \"\\n\" + process_widget.value"
   ]
  },
  {
   "cell_type": "code",
   "execution_count": null,
   "metadata": {},
   "outputs": [],
   "source": [
    "import ipywidgets\n",
    "from ipywidgets import Button, Layout, Textarea, HBox, VBox, Label\n",
    "import os\n",
    "import glob\n",
    "import time\n",
    "import datetime\n",
    "import subprocess\n",
    "\n",
    "last_model_widget = ipywidgets.Dropdown(options=[],description='変換前')\n",
    "last_model_time_widget = ipywidgets.Label(description='作成日時：')\n",
    "\n",
    "trt_model_widget = ipywidgets.Text(description='変換後', value=\"result.pth\")\n",
    "convert_button = ipywidgets.Button(description='TRT Convert')\n",
    "\n",
    "\n",
    "def last_model_list(change):\n",
    "    global last_model_widget\n",
    "    try:\n",
    "        files = glob.glob('./model/*.pth', recursive=True)\n",
    "        last_model_widget.options = files\n",
    "        \n",
    "        ts = os.path.getctime(files[0])\n",
    "        d = datetime.datetime.fromtimestamp(ts)\n",
    "        s = d.strftime('%Y-%m-%d %H:%M:%S')\n",
    "        last_model_time_widget.value = f'作成日時：{s}'\n",
    "    except:\n",
    "        last_model_widget.options = []\n",
    "last_model_list(\"list\")\n",
    "\n",
    "def change_file(change):\n",
    "    file = last_model_widget.value\n",
    "    ts = os.path.getctime(file)\n",
    "    d = datetime.datetime.fromtimestamp(ts)\n",
    "    s = d.strftime('%Y-%m-%d %H:%M:%S')\n",
    "    last_model_time_widget.value = f'作成日時：{s}'\n",
    "last_model_widget.observe(change_file, names='value')\n",
    "\n",
    "\n",
    "def convert_trt(change):\n",
    "    global model,model_trt,last_model_widget,trt_model_widget\n",
    "    write_log(\"モデルの変換を開始します。\")\n",
    "    start_time = time.time()\n",
    "    write_log(\"変換前: \" + str(last_model_widget.value))\n",
    "    model.load_state_dict(torch.load(last_model_widget.value))\n",
    "    write_log(\"TRTへの変換処理中...(時間がかかります)\")\n",
    "    data = torch.zeros((1, 3, 224, 224)).cuda().half()\n",
    "    model_trt = torch2trt(model, [data], fp16_mode=True)\n",
    "    write_log(\"変換後: \" + str(trt_model_widget.value))\n",
    "    path = \"./model_trt/\"\n",
    "    if not os.path.exists(path):\n",
    "        subprocess.call(['mkdir', '-p', path])\n",
    "    torch.save(model_trt.state_dict(), path + trt_model_widget.value)\n",
    "    write_log(\"保存成功\")\n",
    "    end_time = time.time() - start_time\n",
    "    write_log(\"---------------------------------\")\n",
    "    write_log(\"処理時間　　　　　　　　　: \" + str(round(end_time,2)) + \"秒\")\n",
    "    write_log(\"変換前のモデル: \" + str(last_model_widget.value))\n",
    "    write_log(\"変換後のモデル: \" + str(trt_model_widget.value))\n",
    "    write_log(\"---------------------------------\")\n",
    "    \n",
    "convert_button.on_click(convert_trt)\n",
    "\n",
    "convert_widget = ipywidgets.VBox([\n",
    "    ipywidgets.HBox([last_model_widget,last_model_time_widget]),\n",
    "    ipywidgets.HBox([trt_model_widget]),\n",
    "    convert_button,\n",
    "    process_widget\n",
    "])\n",
    "display(convert_widget)"
   ]
  },
  {
   "cell_type": "code",
   "execution_count": null,
   "metadata": {},
   "outputs": [],
   "source": []
  },
  {
   "cell_type": "code",
   "execution_count": null,
   "metadata": {},
   "outputs": [],
   "source": []
  },
  {
   "cell_type": "code",
   "execution_count": null,
   "metadata": {},
   "outputs": [],
   "source": []
  },
  {
   "cell_type": "code",
   "execution_count": null,
   "metadata": {},
   "outputs": [],
   "source": []
  }
 ],
 "metadata": {
  "kernelspec": {
   "display_name": "Python 3",
   "language": "python",
   "name": "python3"
  },
  "language_info": {
   "codemirror_mode": {
    "name": "ipython",
    "version": 3
   },
   "file_extension": ".py",
   "mimetype": "text/x-python",
   "name": "python",
   "nbconvert_exporter": "python",
   "pygments_lexer": "ipython3",
   "version": "3.6.9"
  }
 },
 "nbformat": 4,
 "nbformat_minor": 4
}
