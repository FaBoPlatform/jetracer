{
 "cells": [
  {
   "cell_type": "markdown",
   "metadata": {},
   "source": [
    "# TensorRTへの変換\n",
    "\n",
    "本処理には十分なGPUメモリが必要です。13_annotation.ipynbのプロセスがシャットダウンされているか確認してください。"
   ]
  },
  {
   "cell_type": "code",
   "execution_count": 5,
   "metadata": {},
   "outputs": [
    {
     "name": "stdout",
     "output_type": "stream",
     "text": [
      "------------------------------------------------------------\n",
      "Jetson Orin Nanoを認識: I2Cバス番号: 7, Powerモード: MODE_15W(0)に設定します。\n",
      "------------------------------------------------------------\n"
     ]
    }
   ],
   "source": [
    "import Jetson.GPIO as GPIO\n",
    "\n",
    "BOARD_NAME = GPIO.gpio_pin_data.get_data()[0]\n",
    "\n",
    "mode_descriptions = {\n",
    "    \"JETSON_NX\": [\"15W_2CORE\", \"15W_4CORE\", \"15W_6CORE\", \"10W_2CORE\", \"10W_4CORE\"],\n",
    "    \"JETSON_XAVIER\": [\"MAXN\", \"MODE_10W\", \"MODE_15W\", \"MODE_30W\"],\n",
    "    \"JETSON_NANO\": [\"MAXN\", \"5W\"],\n",
    "    \"JETSON_ORIN\": [\"MAXN\", \"MODE_15W\", \"MODE_30W\", \"MODE_40W\"],\n",
    "    \"JETSON_ORIN_NANO\": [\"MODE_15W\", \"MODE_7W\"]\n",
    "}\n",
    "\n",
    "product_names = {\n",
    "    \"JETSON_NX\": \"Jetson Xavier NX\",\n",
    "    \"JETSON_XAVIER\": \"Jetson AGX Xavier\",\n",
    "    \"JETSON_NANO\": \"Jetson Nano\",\n",
    "    \"JETSON_ORIN\": \"Jetson AGX Orin\",\n",
    "    \"JETSON_ORIN_NANO\": \"Jetson Orin Nano\"\n",
    "}\n",
    "\n",
    "# ボードごとのI2Cバス番号と初期Powerモードを定義する\n",
    "board_settings = {\n",
    "    \"JETSON_NX\": (8, 3),\n",
    "    \"JETSON_XAVIER\": (8, 2),\n",
    "    \"JETSON_NANO\": (1, 0),\n",
    "    \"JETSON_ORIN\": (7, 0),\n",
    "    \"JETSON_ORIN_NANO\": (7, 0)\n",
    "}\n",
    "\n",
    "i2c_busnum, power_mode = board_settings.get(BOARD_NAME, (None, None))\n",
    "mode_description = mode_descriptions.get(BOARD_NAME, [])\n",
    "product_name = product_names.get(BOARD_NAME, \"未知のボード\")\n",
    "\n",
    "if power_mode is not None and power_mode < len(mode_description):\n",
    "    mode_str = mode_description[power_mode]\n",
    "    print(\"------------------------------------------------------------\")\n",
    "    print(f\"{product_name}を認識: I2Cバス番号: {i2c_busnum}, Powerモード: {mode_str}({power_mode})に設定します。\")\n",
    "    print(\"------------------------------------------------------------\")\n",
    "else:\n",
    "    print(\"未知のボードまたは不正なモードです。\")"
   ]
  },
  {
   "cell_type": "code",
   "execution_count": 6,
   "metadata": {},
   "outputs": [
    {
     "name": "stdout",
     "output_type": "stream",
     "text": [
      "Docker起動のため電力モードは変更できません。\n"
     ]
    }
   ],
   "source": [
    "if (product_name == \"Jetson Orin Nano\") or (product_name == \"Jetson AGX Orin\"):\n",
    "    print(\"Docker起動のため電力モードは変更できません。\")\n",
    "else:\n",
    "    !echo \"jetson\" | sudo -S nvpmodel -m $power_mode"
   ]
  },
  {
   "cell_type": "code",
   "execution_count": 7,
   "metadata": {},
   "outputs": [
    {
     "name": "stdout",
     "output_type": "stream",
     "text": [
      "NVPM WARN: power mode is not set!\n"
     ]
    }
   ],
   "source": [
    "!echo \"jetson\" | sudo -S nvpmodel -q"
   ]
  },
  {
   "cell_type": "code",
   "execution_count": 8,
   "metadata": {},
   "outputs": [
    {
     "name": "stdout",
     "output_type": "stream",
     "text": [
      "Docker起動のためjetson_clocksは起動できません。\n"
     ]
    }
   ],
   "source": [
    "if (product_name == \"Jetson Orin Nano\") or (product_name == \"Jetson AGX Orin\"):\n",
    "    print(\"Docker起動のためjetson_clocksは起動できません。\")\n",
    "else:\n",
    "    !echo \"jetson\" | sudo -S jetson_clocks"
   ]
  },
  {
   "cell_type": "code",
   "execution_count": 9,
   "metadata": {
    "tags": []
   },
   "outputs": [],
   "source": [
    "import torch\n",
    "import torchvision\n",
    "from packaging import version\n",
    "import os\n",
    "\n",
    "CATEGORIES = ['xy','speed']\n",
    "\n",
    "output_dim = 2 * len(CATEGORIES)\n",
    "device = torch.device('cuda')\n",
    "\n",
    "current_path = os.getcwd()\n",
    "\n",
    "torchvision_version = version.parse(torchvision.__version__)\n",
    "\n",
    "# torchvision 0.13以降の場合\n",
    "if torchvision_version >= version.parse(\"0.13\"):\n",
    "    from torchvision.models.resnet import ResNet18_Weights, resnet18\n",
    "\n",
    "    model = resnet18(weights=None)  # pretrained=Falseの代わり\n",
    "    model.fc = torch.nn.Linear(model.fc.in_features, output_dim)\n",
    "else:\n",
    "    model = torchvision.models.resnet18(pretrained=False)\n",
    "    model.fc = torch.nn.Linear(512, output_dim)\n",
    "\n",
    "model = model.cuda().eval().half()"
   ]
  },
  {
   "cell_type": "code",
   "execution_count": 10,
   "metadata": {},
   "outputs": [],
   "source": [
    "from torch2trt import torch2trt"
   ]
  },
  {
   "cell_type": "code",
   "execution_count": 11,
   "metadata": {},
   "outputs": [],
   "source": [
    "import ipywidgets\n",
    "from ipywidgets import Button, Layout, Textarea, HBox, VBox, Label\n",
    "import os\n",
    "import glob\n",
    "\n",
    "l = Layout(flex='0 1 auto', height='100px', min_height='100px', width='auto')\n",
    "process_widget = ipywidgets.Textarea(description='ログ', value='', layout=l)\n",
    "\n",
    "process_no = 0\n",
    "def write_log(msg):\n",
    "    global process_widget, process_no\n",
    "    process_no = process_no + 1\n",
    "    process_widget.value = str(process_no) + \": \" + msg + \"\\n\" + process_widget.value"
   ]
  },
  {
   "cell_type": "code",
   "execution_count": 12,
   "metadata": {},
   "outputs": [],
   "source": [
    "import ipywidgets\n",
    "from ipywidgets import Button, Layout, Textarea, HBox, VBox, Label\n",
    "import os\n",
    "import glob\n",
    "import time\n",
    "import datetime\n",
    "import subprocess\n",
    "\n",
    "last_model_widget = ipywidgets.Dropdown(options=[],description='変換前')\n",
    "last_model_time_widget = ipywidgets.Label(description='作成日時：')\n",
    "\n",
    "trt_model_widget = ipywidgets.Text(description='変換後', value=\"result.pth\")\n",
    "convert_button = ipywidgets.Button(description='TRT Convert')\n",
    "\n",
    "\n",
    "def last_model_list(change):\n",
    "    global last_model_widget\n",
    "    try:\n",
    "        files = glob.glob('./model/*.pth', recursive=True)\n",
    "        last_model_widget.options = files\n",
    "        \n",
    "        ts = os.path.getctime(files[0])\n",
    "        d = datetime.datetime.fromtimestamp(ts)\n",
    "        s = d.strftime('%Y-%m-%d %H:%M:%S')\n",
    "        last_model_time_widget.value = f'作成日時：{s}'\n",
    "    except:\n",
    "        last_model_widget.options = []\n",
    "last_model_list(\"list\")\n",
    "\n",
    "def change_file(change):\n",
    "    file = last_model_widget.value\n",
    "    ts = os.path.getctime(file)\n",
    "    d = datetime.datetime.fromtimestamp(ts)\n",
    "    s = d.strftime('%Y-%m-%d %H:%M:%S')\n",
    "    last_model_time_widget.value = f'作成日時：{s}'\n",
    "last_model_widget.observe(change_file, names='value')\n",
    "\n",
    "\n",
    "def convert_trt(change):\n",
    "    global model,model_trt,current_path\n",
    "    try:\n",
    "        write_log(\"モデルの変換を開始します。\")\n",
    "        start_time = time.time()\n",
    "        write_log(\"変換前: \" + str(last_model_widget.value))\n",
    "        model.load_state_dict(torch.load(last_model_widget.value))\n",
    "        write_log(\"TRTへの変換処理中...(時間がかかります)\")\n",
    "        data = torch.zeros((1, 3, 224, 224)).cuda().half()\n",
    "        model_trt = torch2trt(model, [data], fp16_mode=True)\n",
    "        write_log(\"変換後: \" + str(trt_model_widget.value))\n",
    "        path = os.path.join(current_path,\"model_trt\")\n",
    "        if not os.path.exists(path):\n",
    "            subprocess.call(['mkdir', '-p', path])\n",
    "        torch.save(model_trt.state_dict(), path + \"/\" + trt_model_widget.value)\n",
    "        write_log(\"保存成功\")\n",
    "        end_time = time.time() - start_time\n",
    "        write_log(\"---------------------------------\")\n",
    "        write_log(\"処理時間　　　　　　　　　: \" + str(round(end_time,2)) + \"秒\")\n",
    "        write_log(\"変換前のモデル: \" + str(last_model_widget.value))\n",
    "        write_log(\"変換後のモデル: \" + str(trt_model_widget.value))\n",
    "        write_log(\"---------------------------------\")\n",
    "    except Exception as e:\n",
    "        write_log(f\"Error:{e}\")\n",
    "    \n",
    "convert_button.on_click(convert_trt)"
   ]
  },
  {
   "cell_type": "code",
   "execution_count": 15,
   "metadata": {},
   "outputs": [],
   "source": [
    "import cv2\n",
    "import glob\n",
    "from utils import preprocess\n",
    "import re\n",
    "\n",
    "IMG_WIDTH = 224\n",
    "IMG_HEIGHT = 224\n",
    "LOAD_TASK = ['camera','train','run','interactive']\n",
    "SKIP = [1,2,3,4,5]\n",
    "\n",
    "movie_button = ipywidgets.Button(description='動画の作成')\n",
    "movie_name_widget = ipywidgets.Text(description='動画名',value=\"run_video_trt\")\n",
    "load_datasets_widget = ipywidgets.Dropdown(options=[], description='dataset')\n",
    "load_task_widget = ipywidgets.Dropdown(options=LOAD_TASK, description='task')\n",
    "skip_dropdown = ipywidgets.Dropdown(options=SKIP, description='skip(枚)', index=1)\n",
    "\n",
    "def change_load_task(change):\n",
    "    global current_path\n",
    "    try:\n",
    "        path = os.path.join(current_path,load_task_widget.value)\n",
    "        files = os.listdir(path)\n",
    "        dirs = [f for f in files if os.path.isdir(os.path.join(path, f))]\n",
    "        dirs = [f for f in files if f != \".ipynb_checkpoints\"]\n",
    "        dirs = sorted(dirs)\n",
    "        load_datasets_widget.options = dirs\n",
    "    except:\n",
    "        write_log(path + \"が存在していません。\")\n",
    "        load_datasets_widget.options = []\n",
    "load_task_widget.observe(change_load_task, names='value')\n",
    "change_load_task(LOAD_TASK[0])\n",
    "\n",
    "def extract_numbers(filename):\n",
    "    matches = re.findall(r'(\\d+)', filename)\n",
    "    if matches and len(matches) >= 3: \n",
    "        return int(matches[-1])  \n",
    "    else:\n",
    "        return float('inf')\n",
    "\n",
    "def get_file_names(path):\n",
    "    filenames = os.listdir(path)\n",
    "    filenames = [os.path.join(path, file_name) for file_name in filenames]\n",
    "    imagenames = []\n",
    "\n",
    "    imagenames = sorted(filenames, key=lambda f: extract_numbers(os.path.basename(f)))\n",
    "    imagenames = [f for f in imagenames if os.path.splitext(f)[1].lower() == \".jpg\"]\n",
    "    \n",
    "    return imagenames\n",
    "\n",
    "def make_movie(change):\n",
    "    global model_trt,current_path\n",
    "    \n",
    "    if not movie_name_widget.value.strip():\n",
    "        write_log(\"ファイル名を指定してください。\")\n",
    "        return \n",
    "    write_log(\"動画を作成します。\")\n",
    "    path = os.path.join(current_path,\"video\")\n",
    "    if not os.path.exists(path):\n",
    "        subprocess.call(['mkdir', '-p', path])\n",
    "    output = path + \"/\" + movie_name_widget.value + \".mp4\"\n",
    "    fourcc = cv2.VideoWriter_fourcc(*'mp4v')\n",
    "    fps = int(30/skip_dropdown.value)\n",
    "    outfh = cv2.VideoWriter(output, fourcc, fps, (224, 224))\n",
    "    \n",
    "    xy_path = os.path.join(current_path, load_task_widget.value, load_datasets_widget.value, \"xy\")     \n",
    "    file_list = get_file_names(xy_path)\n",
    "    \n",
    "    try:\n",
    "        res_num = len(file_list)\n",
    "        skip = skip_dropdown.value\n",
    "        count = 0\n",
    "        for file_name in file_list:\n",
    "            count += 1\n",
    "            if count % skip == 0:\n",
    "                img = cv2.imread(file_name)\n",
    "\n",
    "                image = preprocess(img).half()\n",
    "                output = model_trt(image).detach().cpu().numpy().flatten()\n",
    "                result_x = float(output[0])\n",
    "                result_y = float(output[1])\n",
    "                result_x = int(IMG_WIDTH * (result_x / 2.0 + 0.5))\n",
    "                result_y = int(IMG_HEIGHT * (result_y / 2.0 + 0.5))    \n",
    "                img = cv2.circle(img, (int(result_x), int(result_y)), 8, (255, 0, 0), 3)\n",
    "\n",
    "                # Speed\n",
    "                result_speed = output[3]\n",
    "                result_speed = int(IMG_WIDTH * (result_speed / 2.0 + 0.5))\n",
    "                if result_speed > 224:\n",
    "                    result_speed = 244\n",
    "                elif result_speed < 0:\n",
    "                    result_speed = 0\n",
    "                img = cv2.line(img,(218,0),(218,224),(0,0,0),5)\n",
    "                img = cv2.line(img,(219,224-result_speed),(219,224),(0,140,255),3)\n",
    "                img = cv2.putText(img,\"speed:\"+str(result_speed),(160,215),cv2.FONT_HERSHEY_SIMPLEX,0.3,(255,255,255))\n",
    "\n",
    "                if count%(skip*10) == 0:\n",
    "                    write_log(f\"{str(int(count/skip))}枚目/{str(int(res_num/skip))}枚中を処理中\")\n",
    "                outfh.write(img)\n",
    "                del img\n",
    "    finally:\n",
    "        # エラーが発生しても確実にリソースを解放する\n",
    "        outfh.release()\n",
    "        write_log(\"動画の出力が完了しました。\")\n",
    "        #get_jetson_nano_memory_usage()\n",
    "\n",
    "movie_button.on_click(make_movie)"
   ]
  },
  {
   "cell_type": "code",
   "execution_count": 16,
   "metadata": {},
   "outputs": [
    {
     "data": {
      "application/vnd.jupyter.widget-view+json": {
       "model_id": "4a2985de944744918cffa6b2d8e13939",
       "version_major": 2,
       "version_minor": 0
      },
      "text/plain": [
       "VBox(children=(HTML(value='<hr style=\"border-color:gray;margin:10px 0\"/>'), HTML(value='<b>【1.TensorRTへの変換】</b…"
      ]
     },
     "metadata": {},
     "output_type": "display_data"
    }
   ],
   "source": [
    "separator = ipywidgets.HTML('<hr style=\"border-color:gray;margin:10px 0\"/>')\n",
    "title1 = ipywidgets.HTML('<b>【1.TensorRTへの変換】</b> 軽量化、高速化を目的にモデルをTensorRT形式に変換します。')\n",
    "title2 = ipywidgets.HTML('<b>【2.変換後のモデルの動画評価】</b> 変換後のモデルで動画を作成し評価します。')\n",
    "\n",
    "convert_widget = ipywidgets.VBox([\n",
    "    separator,\n",
    "    title1,\n",
    "    ipywidgets.HBox([last_model_widget,last_model_time_widget]),\n",
    "    ipywidgets.HBox([trt_model_widget]),\n",
    "    convert_button,\n",
    "    process_widget,\n",
    "    separator,\n",
    "    title2,\n",
    "    ipywidgets.HBox([load_datasets_widget,load_task_widget]),\n",
    "    ipywidgets.HBox([movie_button,movie_name_widget,skip_dropdown]),\n",
    "    process_widget\n",
    "])\n",
    "display(convert_widget)"
   ]
  },
  {
   "cell_type": "code",
   "execution_count": null,
   "metadata": {},
   "outputs": [],
   "source": []
  },
  {
   "cell_type": "code",
   "execution_count": null,
   "metadata": {},
   "outputs": [],
   "source": []
  },
  {
   "cell_type": "code",
   "execution_count": null,
   "metadata": {},
   "outputs": [],
   "source": []
  },
  {
   "cell_type": "code",
   "execution_count": null,
   "metadata": {},
   "outputs": [],
   "source": []
  }
 ],
 "metadata": {
  "kernelspec": {
   "display_name": "Python 3",
   "language": "python",
   "name": "python3"
  },
  "language_info": {
   "codemirror_mode": {
    "name": "ipython",
    "version": 3
   },
   "file_extension": ".py",
   "mimetype": "text/x-python",
   "name": "python",
   "nbconvert_exporter": "python",
   "pygments_lexer": "ipython3",
   "version": "3.8.10"
  }
 },
 "nbformat": 4,
 "nbformat_minor": 4
}
