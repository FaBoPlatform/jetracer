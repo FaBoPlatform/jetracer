{
 "cells": [
  {
   "cell_type": "markdown",
   "metadata": {},
   "source": [
    "# 動画の作成"
   ]
  },
  {
   "cell_type": "code",
   "execution_count": null,
   "metadata": {},
   "outputs": [],
   "source": [
    "from ipywidgets import Button, Layout, Textarea, HBox, VBox, Label\n",
    "import ipywidgets\n",
    "import os\n",
    "import cv2"
   ]
  },
  {
   "cell_type": "code",
   "execution_count": null,
   "metadata": {},
   "outputs": [],
   "source": [
    "DIR = \"./\"\n",
    "TASK = ['camera','run']\n",
    "\n",
    "task_widget = ipywidgets.Dropdown(options=TASK, description='task')\n",
    "datasets_widget = ipywidgets.Dropdown(description='dataset')\n",
    "make_button = ipywidgets.Button(description='Make movie')\n",
    "video_name_widget = ipywidgets.Text(description='動画名')"
   ]
  },
  {
   "cell_type": "code",
   "execution_count": null,
   "metadata": {},
   "outputs": [],
   "source": [
    "l = Layout(flex='0 1 auto', height='100px', min_height='100px', width='auto')\n",
    "process_widget = ipywidgets.Textarea(description='ログ', value='', layout=l)\n",
    "\n",
    "process_no = 0\n",
    "def write_log(msg):\n",
    "    global process_widget, process_no\n",
    "    process_no = process_no + 1\n",
    "    process_widget.value = str(process_no) + \": \" + msg + \"\\n\" + process_widget.value"
   ]
  },
  {
   "cell_type": "code",
   "execution_count": null,
   "metadata": {},
   "outputs": [],
   "source": [
    "from torch2trt import TRTModule\n",
    "\n",
    "model_trt = TRTModule()"
   ]
  },
  {
   "cell_type": "code",
   "execution_count": null,
   "metadata": {},
   "outputs": [],
   "source": [
    "model_widget = ipywidgets.Dropdown(options=[],description='モデル')\n",
    "model_time_widget = ipywidgets.Label(description='作成日時：')\n",
    "load_button = ipywidgets.Button(description='Load')"
   ]
  },
  {
   "cell_type": "code",
   "execution_count": null,
   "metadata": {},
   "outputs": [],
   "source": [
    "import glob\n",
    "import cv2 as cv\n",
    "import sys\n",
    "import subprocess\n",
    "import datetime\n",
    "import torch\n",
    "\n",
    "IMG_WIDTH=224\n",
    "IMG_HEIGHT=224\n",
    "from utils import preprocess\n",
    "model_load = False\n",
    "def make_movie(change):\n",
    "    global model_trt,task_widget, datasets_widget, video_name_widget\n",
    "    \n",
    "    if model_load == False:\n",
    "        write_log(\"先に、モデルを読み込んでください。\")\n",
    "        return\n",
    "    \n",
    "    if video_name_widget.value == \"\":\n",
    "        write_log(\"動画名を指定してください。\")\n",
    "        return\n",
    "    \n",
    "    write_log(\"動画を作成します。\")\n",
    "    path = \"./video/\"\n",
    "    if not os.path.exists(path):\n",
    "        subprocess.call(['mkdir', '-p', path])\n",
    "    output = path + video_name_widget.value + \".mp4\"\n",
    "    fourcc = cv.VideoWriter_fourcc(*'mp4v')\n",
    "    outfh = cv.VideoWriter(output, fourcc, 10, (224, 224))\n",
    "    for file_name in sorted(glob.glob(task_widget.value + '/' + datasets_widget.value + '/xy/*.jpg')):\n",
    "\n",
    "        img = cv.imread(file_name)\n",
    "        \n",
    "        image = preprocess(img).half()\n",
    "        output = model_trt(image).detach().cpu().numpy().flatten()\n",
    "        result_x = float(output[0])\n",
    "        result_y = float(output[1])\n",
    "        result_x = int(IMG_WIDTH * (result_x / 2.0 + 0.5))\n",
    "        result_y = int(IMG_HEIGHT * (result_y / 2.0 + 0.5))    \n",
    "        img = cv2.circle(img, (int(result_x), int(result_y)), 8, (255, 0, 0), 3)\n",
    "        \n",
    "        # Speed\n",
    "        result_speed = output[3]\n",
    "        result_speed = int(IMG_WIDTH * (result_speed / 2.0 + 0.5))\n",
    "        if result_speed > 224:\n",
    "            result_speed = 224\n",
    "        elif result_speed < 0:\n",
    "            result_speed = 0\n",
    "        img = cv2.line(img,(218,0),(218,224),(0,0,0),5)\n",
    "        img = cv2.line(img,(219,224-result_speed),(219,224),(0,140,255),3)\n",
    "        img = cv2.putText(img,\"speed:\"+str(result_speed),(160,215),cv2.FONT_HERSHEY_SIMPLEX,0.3,(255,255,255))\n",
    "      \n",
    "        write_log(file_name)\n",
    "        outfh.write(img)\n",
    "    outfh.release()\n",
    "    \n",
    "def model_list(change):\n",
    "    global model_widget\n",
    "    try:\n",
    "        files = glob.glob('./model_trt/*.pth', recursive=True)\n",
    "        model_widget.options = files\n",
    "        ts = os.path.getctime(files[0])\n",
    "        d = datetime.datetime.fromtimestamp(ts)\n",
    "        s = d.strftime('%Y-%m-%d %H:%M:%S')\n",
    "        model_time_widget.value = f'作成日時：{s}'\n",
    "    except:\n",
    "        model_widget.options = []\n",
    "model_list(\"list\")\n",
    "\n",
    "def change_file(change):\n",
    "    file = model_widget.value\n",
    "    ts = os.path.getctime(file)\n",
    "    d = datetime.datetime.fromtimestamp(ts)\n",
    "    s = d.strftime('%Y-%m-%d %H:%M:%S')\n",
    "    model_time_widget.value = f'作成日時：{s}'\n",
    "model_widget.observe(change_file, names='value')\n",
    "    \n",
    "def load_model(change):\n",
    "    global model_trt,model_widget,model_load\n",
    "    try:\n",
    "        write_log(model_widget.value + \"の読込を実行します(初回は時間がかかります)。\")\n",
    "        model_trt.load_state_dict(torch.load(model_widget.value))\n",
    "        write_log(model_widget.value + \"の読込に成功しました。\")\n",
    "        model_load = True\n",
    "    except:\n",
    "        model_load = False\n",
    "        write_log(\"[Error]\" + model_widget.value + \"の読込に失敗しました。\")\n",
    "\n",
    "load_button.on_click(load_model)\n",
    "make_button.on_click(make_movie)"
   ]
  },
  {
   "cell_type": "code",
   "execution_count": null,
   "metadata": {},
   "outputs": [],
   "source": [
    "def change_task(change):\n",
    "    global DIR, task_widget, datasets_widget\n",
    "    try:        \n",
    "        path = DIR + task_widget.value + \"/\"\n",
    "        files = os.listdir(path)\n",
    "        dirs = [f for f in files if os.path.isdir(os.path.join(path, f))]\n",
    "        dirs = [f for f in files if f != \".ipynb_checkpoints\"]\n",
    "        dirs = sorted(dirs)\n",
    "        datasets_widget.options = dirs\n",
    "    except:\n",
    "        #write_log(path + \"が存在していません。\")\n",
    "        datasets_widget.options = []\n",
    "task_widget.observe(change_task, names='value')\n",
    "change_task(TASK[0])\n",
    "        \n",
    "movie_collection_widget = ipywidgets.VBox([\n",
    "    ipywidgets.HBox([model_widget,model_time_widget,load_button]),\n",
    "    ipywidgets.HBox([datasets_widget,task_widget]),\n",
    "    ipywidgets.HBox([video_name_widget,make_button]),\n",
    "    process_widget\n",
    "])\n",
    "display(movie_collection_widget)"
   ]
  },
  {
   "cell_type": "code",
   "execution_count": null,
   "metadata": {},
   "outputs": [],
   "source": []
  },
  {
   "cell_type": "code",
   "execution_count": null,
   "metadata": {},
   "outputs": [],
   "source": []
  },
  {
   "cell_type": "code",
   "execution_count": null,
   "metadata": {},
   "outputs": [],
   "source": []
  }
 ],
 "metadata": {
  "kernelspec": {
   "display_name": "Python 3",
   "language": "python",
   "name": "python3"
  },
  "language_info": {
   "codemirror_mode": {
    "name": "ipython",
    "version": 3
   },
   "file_extension": ".py",
   "mimetype": "text/x-python",
   "name": "python",
   "nbconvert_exporter": "python",
   "pygments_lexer": "ipython3",
   "version": "3.8.10"
  }
 },
 "nbformat": 4,
 "nbformat_minor": 4
}
