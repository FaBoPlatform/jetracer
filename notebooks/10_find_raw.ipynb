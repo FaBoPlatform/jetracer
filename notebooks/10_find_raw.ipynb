{
 "cells": [
  {
   "cell_type": "markdown",
   "metadata": {},
   "source": [
    "# PWMの値の吸い上げ"
   ]
  },
  {
   "cell_type": "markdown",
   "metadata": {},
   "source": [
    "## Boardの判別"
   ]
  },
  {
   "cell_type": "code",
   "execution_count": null,
   "metadata": {},
   "outputs": [],
   "source": [
    "import Jetson.GPIO as GPIO\n",
    "\n",
    "BOARD_NAME=GPIO.gpio_pin_data.get_data()[0]\n",
    "if BOARD_NAME == \"JETSON_NX\":\n",
    "    print(\"Jetson Xavier NXを認識\")\n",
    "    I2C_BUSNUM = 8\n",
    "elif BOARD_NAME == \"JETSON_XAVIER\":\n",
    "    print(\"Jetson AGX Xavierを認識\")\n",
    "    I2C_BUSNUM = 8\n",
    "elif BOARD_NAME == \"JETSON_NANO\":\n",
    "    print(\"Jetson NANOを認識\")\n",
    "    I2C_BUSNUM = 1"
   ]
  },
  {
   "cell_type": "markdown",
   "metadata": {},
   "source": [
    "## I2Cの認識確認\n",
    "\n",
    "0x08: PWMの値の吸い上げ<br>\n",
    "0x3c: OLED　Display<br>\n",
    "0x40: PCA9685(PWMの出力)<br>\n",
    "0x70: PCA9685(PWMの出力)<br>"
   ]
  },
  {
   "cell_type": "code",
   "execution_count": null,
   "metadata": {},
   "outputs": [],
   "source": [
    "!i2cdetect -y -r $I2C_BUSNUM"
   ]
  },
  {
   "cell_type": "markdown",
   "metadata": {},
   "source": [
    "## ラジコンの制御\n",
    "\n",
    "Jetson Nano 2G, 4GはBUSNUMを1に指定します。\n",
    "Jetson NXは、BUSNUMを8に指定します。\n",
    "\n",
    "タミヤのラジコンは60Hzを指定して制御します。"
   ]
  },
  {
   "cell_type": "code",
   "execution_count": null,
   "metadata": {},
   "outputs": [],
   "source": [
    "import Fabo_PCA9685\n",
    "import time\n",
    "import pkg_resources\n",
    "import smbus\n",
    "import time\n",
    "import json\n",
    "\n",
    "stop = 0\n",
    "try:\n",
    "    with open('pwm_params.json') as f:\n",
    "        json_str = json.load(f)\n",
    "\n",
    "        stop = json_str[\"pwm_speed\"][\"stop\"]\n",
    "        left = json_str[\"pwm_steering\"][\"left\"]\n",
    "        center = json_str[\"pwm_steering\"][\"center\"]\n",
    "        right = json_str[\"pwm_steering\"][\"right\"]\n",
    "except:\n",
    "    print(\"New setting\")\n",
    "        \n",
    "if stop == 0:\n",
    "    INITIAL_VALUE=410\n",
    "else:\n",
    "    INITIAL_VALUE=stop\n",
    "    \n",
    "SMBUS='smbus'\n",
    "BUSNUM=I2C_BUSNUM\n",
    "SERVO_HZ=60\n",
    "bus = smbus.SMBus(BUSNUM)\n",
    "PCA9685 = Fabo_PCA9685.PCA9685(bus,INITIAL_VALUE,address=0x40)\n",
    "PCA9685.set_hz(SERVO_HZ)"
   ]
  },
  {
   "cell_type": "code",
   "execution_count": null,
   "metadata": {},
   "outputs": [],
   "source": [
    "from ipywidgets import Button, Layout, Textarea, HBox, VBox\n",
    "import ipywidgets\n",
    "import sys\n",
    "import threading\n",
    "\n",
    "raw_left_widget = ipywidgets.IntText(description='左')\n",
    "raw_center_widget = ipywidgets.IntText(description='中央')\n",
    "raw_right_widget = ipywidgets.IntText(description='右')\n",
    "raw_front_widget = ipywidgets.IntText(description='前進')\n",
    "raw_stop_widget = ipywidgets.IntText(description='停止')\n",
    "raw_back_widget = ipywidgets.IntText(description='後進')\n",
    "\n",
    "set_button = ipywidgets.Button(description='Set')\n",
    "start_button = ipywidgets.Button(description='Connect')\n",
    "stop_button = ipywidgets.Button(description='Stop')\n",
    "\n",
    "output = ipywidgets.Output() \n",
    "\n",
    "TYPE_STEERING = 1\n",
    "TYPE_SPEED = 2\n",
    "\n",
    "state = 0\n",
    "\n",
    "raw_left = 0\n",
    "raw_center = 0\n",
    "raw_right = 0\n",
    "raw_front = 0\n",
    "raw_stop = 0\n",
    "raw_back = 0\n",
    "running = False\n",
    "\n",
    "def set_value(c):\n",
    "    global type, running,state,raw_left,raw_center,raw_right,raw_left_widget,raw_center_widget,raw_right_widget,raw_front,raw_stop,raw_back,raw_front_widget,raw_stop_widget,raw_back_widget,execute_thread\n",
    "    \n",
    "    if type == TYPE_STEERING:\n",
    "        if state == 0:\n",
    "            raw_left = raw_left_widget.value\n",
    "            state += 1\n",
    "        elif state == 1:\n",
    "            raw_center = raw_center_widget.value\n",
    "            state += 1\n",
    "        elif state == 2:\n",
    "            raw_right = raw_right_widget.value\n",
    "            running = False\n",
    "            execute_thread.join()\n",
    "            state = 0\n",
    "    elif type == TYPE_SPEED:\n",
    "        if state == 0:\n",
    "            output.clear_output(True)\n",
    "            raw_front = raw_front_widget.value\n",
    "            state += 1\n",
    "        elif state == 1:\n",
    "            raw_stop = raw_stop_widget.value\n",
    "            state += 1\n",
    "        elif state == 2:\n",
    "            raw_back = raw_back_widget.value\n",
    "            running = False\n",
    "            execute_thread.join()\n",
    "\n",
    "def live():\n",
    "    global type, running, state, raw_top_widget, raw_middle_widget, raw_bottom_widget\n",
    "    i2c = smbus.SMBus(I2C_BUSNUM)\n",
    "    addr = 0x08\n",
    "    state = 0\n",
    "\n",
    "    while running:\n",
    "        data1 = i2c.read_i2c_block_data(addr, 0x01, 8)\n",
    "        raw1 = data1[0] << 24 | data1[1] << 16 | data1[2] << 8| data1[3]\n",
    "        raw2 = data1[4] << 24 | data1[5] << 16 | data1[6] << 8| data1[7]\n",
    "        \n",
    "        if type == TYPE_STEERING:\n",
    "            if state == 0:\n",
    "                raw_left_widget.value = raw1\n",
    "            elif state == 1:\n",
    "                raw_center_widget.value = raw1\n",
    "            elif state == 2:\n",
    "                raw_right_widget.value = raw1\n",
    "        elif type == TYPE_SPEED:\n",
    "            if state == 0:\n",
    "                raw_front_widget.value = raw2\n",
    "            elif state == 1:\n",
    "                raw_stop_widget.value = raw2\n",
    "            elif state == 2:\n",
    "                raw_back_widget.value = raw2\n",
    "\n",
    "def start(c):\n",
    "    global running, execute_thread, start_time\n",
    "    running = True\n",
    "    execute_thread = threading.Thread(target=live)\n",
    "    execute_thread.start()\n",
    "\n",
    "def stop(c):\n",
    "    global running, execute_thread\n",
    "    running = False\n",
    "    execute_thread.join()\n",
    "    \n",
    "set_button.on_click(set_value)\n",
    "start_button.on_click(start)\n",
    "stop_button.on_click(stop)"
   ]
  },
  {
   "cell_type": "code",
   "execution_count": null,
   "metadata": {},
   "outputs": [],
   "source": [
    "type = TYPE_STEERING\n",
    "train_eval_widget = ipywidgets.VBox([\n",
    "    ipywidgets.HBox([raw_left_widget]),\n",
    "    ipywidgets.HBox([raw_center_widget]),\n",
    "    ipywidgets.HBox([raw_right_widget]),\n",
    "    ipywidgets.HBox([start_button,set_button, stop_button])\n",
    "])\n",
    "\n",
    "display(train_eval_widget)"
   ]
  },
  {
   "cell_type": "code",
   "execution_count": null,
   "metadata": {},
   "outputs": [],
   "source": [
    "print(\"raw 右: %s\" % raw_left)\n",
    "print(\"raw 中央: %s\" % raw_center)\n",
    "print(\"raw 左: %s\" % raw_right)"
   ]
  },
  {
   "cell_type": "code",
   "execution_count": null,
   "metadata": {},
   "outputs": [],
   "source": [
    "type = TYPE_SPEED\n",
    "train_eval_widget = ipywidgets.VBox([\n",
    "    ipywidgets.HBox([raw_front_widget]),\n",
    "    ipywidgets.HBox([raw_stop_widget]),\n",
    "    ipywidgets.HBox([raw_back_widget]),\n",
    "    ipywidgets.HBox([start_button,set_button, stop_button])\n",
    "])\n",
    "\n",
    "display(train_eval_widget)"
   ]
  },
  {
   "cell_type": "code",
   "execution_count": null,
   "metadata": {},
   "outputs": [],
   "source": [
    "print(\"raw 右: %s\" % raw_front)\n",
    "print(\"raw 中央: %s\" % raw_stop)\n",
    "print(\"raw 左: %s\" % raw_back)"
   ]
  },
  {
   "cell_type": "code",
   "execution_count": null,
   "metadata": {},
   "outputs": [],
   "source": [
    "import json\n",
    "\n",
    "json_str = {\n",
    "    \"raw_steering\": {\n",
    "        \"left\": raw_left,\n",
    "        \"center\": raw_center,\n",
    "        \"right\": raw_right,\n",
    "    },\n",
    "    \"raw_speed\": {\n",
    "        \"front\": raw_front,\n",
    "        \"stop\": raw_stop,\n",
    "        \"back\": raw_back,\n",
    "    }\n",
    "}\n",
    "\n",
    "with open('raw_params.json', 'w') as f:\n",
    "    json.dump(json_str, f, ensure_ascii=False)"
   ]
  },
  {
   "cell_type": "code",
   "execution_count": null,
   "metadata": {},
   "outputs": [],
   "source": [
    "print(json_str)"
   ]
  },
  {
   "cell_type": "code",
   "execution_count": null,
   "metadata": {},
   "outputs": [],
   "source": []
  },
  {
   "cell_type": "code",
   "execution_count": null,
   "metadata": {},
   "outputs": [],
   "source": []
  }
 ],
 "metadata": {
  "kernelspec": {
   "display_name": "Python 3",
   "language": "python",
   "name": "python3"
  },
  "language_info": {
   "codemirror_mode": {
    "name": "ipython",
    "version": 3
   },
   "file_extension": ".py",
   "mimetype": "text/x-python",
   "name": "python",
   "nbconvert_exporter": "python",
   "pygments_lexer": "ipython3",
   "version": "3.6.9"
  }
 },
 "nbformat": 4,
 "nbformat_minor": 4
}
