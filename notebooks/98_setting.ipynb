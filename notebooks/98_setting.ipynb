{
 "cells": [
  {
   "cell_type": "markdown",
   "metadata": {},
   "source": [
    "Execute the following block of code by selecting it and clicking ``ctrl + enter`` to create an ``NvidiaRacecar`` class.  "
   ]
  },
  {
   "cell_type": "code",
   "execution_count": 1,
   "metadata": {},
   "outputs": [
    {
     "name": "stdout",
     "output_type": "stream",
     "text": [
      "Cloning into 'FaBoPWM-PCA9685-Python'...\n",
      "remote: Enumerating objects: 104, done.\u001b[K\n",
      "remote: Counting objects: 100% (6/6), done.\u001b[K\n",
      "remote: Compressing objects: 100% (5/5), done.\u001b[K\n",
      "remote: Total 104 (delta 1), reused 6 (delta 1), pack-reused 98\u001b[K\n",
      "Receiving objects: 100% (104/104), 29.77 KiB | 1.86 MiB/s, done.\n",
      "Resolving deltas: 100% (40/40), done.\n",
      "/home/jetson/jetracer/notebooks/FaBoPWM-PCA9685-Python\n",
      "Defaulting to user installation because normal site-packages is not writeable\n",
      "Processing /home/jetson/jetracer/notebooks/FaBoPWM-PCA9685-Python\n",
      "  Preparing metadata (setup.py) ... \u001b[?25ldone\n",
      "\u001b[?25hBuilding wheels for collected packages: Fabo-PCA9685\n",
      "  Building wheel for Fabo-PCA9685 (setup.py) ... \u001b[?25ldone\n",
      "\u001b[?25h  Created wheel for Fabo-PCA9685: filename=Fabo_PCA9685-0.5-py3-none-any.whl size=5609 sha256=ecaf57e93d0e7e08d92e21b4a137af2c0b2167012b510dfcfa4a3d0206dd8932\n",
      "  Stored in directory: /home/jetson/.cache/pip/wheels/81/c9/21/19192dad5fd48343ac28408de0d91dcb117bd304b15500b507\n",
      "Successfully built Fabo-PCA9685\n",
      "Installing collected packages: Fabo-PCA9685\n",
      "Successfully installed Fabo-PCA9685-0.5\n"
     ]
    }
   ],
   "source": [
    "!git clone -b jupyterlab https://github.com/FaBoPlatform/FaBoPWM-PCA9685-Python\n",
    "%cd FaBoPWM-PCA9685-Python\n",
    "!pip3 install ."
   ]
  },
  {
   "cell_type": "code",
   "execution_count": 2,
   "metadata": {},
   "outputs": [
    {
     "name": "stdout",
     "output_type": "stream",
     "text": [
      "/home/jetson/jetracer/notebooks\n"
     ]
    }
   ],
   "source": [
    "%cd ..\n",
    "!rm -rf FaBoPWM-PCA9685-Python"
   ]
  },
  {
   "cell_type": "code",
   "execution_count": 3,
   "metadata": {},
   "outputs": [
    {
     "name": "stdout",
     "output_type": "stream",
     "text": [
      "Defaulting to user installation because normal site-packages is not writeable\n",
      "Collecting smbus\n",
      "  Downloading smbus-1.1.post2.tar.gz (104 kB)\n",
      "     |████████████████████████████████| 104 kB 5.7 MB/s            \n",
      "\u001b[?25h  Preparing metadata (setup.py) ... \u001b[?25ldone\n",
      "\u001b[?25hBuilding wheels for collected packages: smbus\n",
      "  Building wheel for smbus (setup.py) ... \u001b[?25ldone\n",
      "\u001b[?25h  Created wheel for smbus: filename=smbus-1.1.post2-cp36-cp36m-linux_aarch64.whl size=26525 sha256=cee15db6b64d6fdadc726fadb7bb9d351add9ed4f95e3b579dbeedf692e81f7a\n",
      "  Stored in directory: /home/jetson/.cache/pip/wheels/79/4e/18/c07e0f73fc466a8826a84e2102ac872e335d13e8a631fa443d\n",
      "Successfully built smbus\n",
      "Installing collected packages: smbus\n",
      "Successfully installed smbus-1.1.post2\n"
     ]
    }
   ],
   "source": [
    "!pip3 install smbus"
   ]
  },
  {
   "cell_type": "markdown",
   "metadata": {},
   "source": [
    "Please note the throttle is directly mapped to the RC car.  When the car is stopped and a negative throttle is set, it will reverse.  If the car is moving forward and a negative throttle is set, it will brake."
   ]
  },
  {
   "cell_type": "markdown",
   "metadata": {},
   "source": [
    "That's it for this notebook!"
   ]
  }
 ],
 "metadata": {
  "kernelspec": {
   "display_name": "Python 3",
   "language": "python",
   "name": "python3"
  },
  "language_info": {
   "codemirror_mode": {
    "name": "ipython",
    "version": 3
   },
   "file_extension": ".py",
   "mimetype": "text/x-python",
   "name": "python",
   "nbconvert_exporter": "python",
   "pygments_lexer": "ipython3",
   "version": "3.6.9"
  }
 },
 "nbformat": 4,
 "nbformat_minor": 4
}
