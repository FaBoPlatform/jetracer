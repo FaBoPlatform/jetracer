{
 "cells": [
  {
   "cell_type": "markdown",
   "metadata": {},
   "source": [
    "Tensor RTに変換された学習済みモデルをつかって自動走行します。"
   ]
  },
  {
   "cell_type": "code",
   "execution_count": 1,
   "metadata": {},
   "outputs": [],
   "source": [
    "import torch\n",
    "import torchvision\n",
    "\n",
    "CATEGORIES = ['apex']\n",
    "\n",
    "device = torch.device('cuda')\n",
    "model = torchvision.models.resnet18(pretrained=False)\n",
    "model.fc = torch.nn.Linear(512, 2 * len(CATEGORIES))\n",
    "model = model.cuda().eval().half()"
   ]
  },
  {
   "cell_type": "markdown",
   "metadata": {},
   "source": [
    "Tensor RT形式のモデルを読み込む。"
   ]
  },
  {
   "cell_type": "code",
   "execution_count": 2,
   "metadata": {},
   "outputs": [],
   "source": [
    "import torch\n",
    "from torch2trt import TRTModule\n",
    "\n",
    "model_trt = TRTModule()\n",
    "model_trt.load_state_dict(torch.load('road_following_model_trt.pth'))"
   ]
  },
  {
   "cell_type": "markdown",
   "metadata": {},
   "source": [
    "racecarクラスをインスタンス化する"
   ]
  },
  {
   "cell_type": "code",
   "execution_count": 3,
   "metadata": {},
   "outputs": [
    {
     "name": "stdout",
     "output_type": "stream",
     "text": [
      "96\n"
     ]
    }
   ],
   "source": [
    "from jetracer.nvidia_racecar import NvidiaRacecar\n",
    "\n",
    "car = NvidiaRacecar()"
   ]
  },
  {
   "cell_type": "markdown",
   "metadata": {},
   "source": [
    "カメラの起動のためにカメラを制御するnvargus-daemonの再起動。"
   ]
  },
  {
   "cell_type": "code",
   "execution_count": 4,
   "metadata": {},
   "outputs": [
    {
     "name": "stdout",
     "output_type": "stream",
     "text": [
      "[sudo] password for jetson: "
     ]
    }
   ],
   "source": [
    "!echo jetson | sudo -S systemctl restart nvargus-daemon"
   ]
  },
  {
   "cell_type": "markdown",
   "metadata": {},
   "source": [
    "カメラクラスをインスタンス化する。"
   ]
  },
  {
   "cell_type": "code",
   "execution_count": 5,
   "metadata": {},
   "outputs": [],
   "source": [
    "from jetcam.csi_camera import CSICamera\n",
    "\n",
    "camera = CSICamera(width=224, height=224, capture_fps=40)"
   ]
  },
  {
   "cell_type": "markdown",
   "metadata": {},
   "source": [
    "最後に、JetRacerを下に置き、下記セルを実行します。\n",
    "\n",
    "* 車の左右にうまく回らない場合は、`STEERING_GAIN` を小さいくする\n",
    "* ターンがうまくいかない場合は、`STEERING_GAIN`を大きくする\n",
    "* 車が左に傾く場合は、`STEERING_BIAS`を値を-0.05ぐらいづつマイナスにする\n",
    "* 車が右に傾く場合は、`STEERING_BIAS`を値を+0.05ぐらいづつプラスにする"
   ]
  },
  {
   "cell_type": "code",
   "execution_count": 6,
   "metadata": {},
   "outputs": [
    {
     "data": {
      "application/vnd.jupyter.widget-view+json": {
       "model_id": "4dad98f42bab4203b68d6c167b76759e",
       "version_major": 2,
       "version_minor": 0
      },
      "text/plain": [
       "VBox(children=(HBox(children=(FloatSlider(value=0.15, description='throttle', max=1.0, min=-1.0, orientation='…"
      ]
     },
     "metadata": {},
     "output_type": "display_data"
    }
   ],
   "source": [
    "import ipywidgets.widgets as widgets\n",
    "from IPython.display import display\n",
    "from utils import preprocess\n",
    "import numpy as np\n",
    "import threading\n",
    "import traitlets\n",
    "\n",
    "throttle_slider = widgets.FloatSlider(description='throttle', min=-1.0, max=1.0, step=0.01, value=0.15, orientation='vertical')\n",
    "steering_gain = widgets.BoundedFloatText(description='st_gain',min=-1.0, max=1.0, step=0.01, value=-0.65)\n",
    "steering_offset = widgets.BoundedFloatText(description='st_offset',min=-1.0, max=1.0, step=0.01, value=0.2)\n",
    "run_button = widgets.Button(description='推論開始')\n",
    "stop_button = widgets.Button(description='推論停止')\n",
    "log_widget = widgets.Textarea(description='ログ')\n",
    "result_widget = widgets.FloatText(description='推論から導いたXの値')\n",
    "\n",
    "def live():\n",
    "    global running\n",
    "    log_widget.value = \"live\"\n",
    "    i = 0\n",
    "    while running:\n",
    "        i = i + 1\n",
    "        log_widget.value = str(i) + \"回目の推論\"\n",
    "        image = camera.read()\n",
    "        image = preprocess(image).half()\n",
    "        output = model_trt(image).detach().cpu().numpy().flatten()\n",
    "        x = float(output[0])\n",
    "        steering_value = x * car.steering_gain + car.steering_offset\n",
    "        result_widget.value = steering_value\n",
    "        car.steering = steering_value\n",
    "\n",
    "def run(c):\n",
    "    global running, execute_thread\n",
    "    log_widget.value = \"run\"\n",
    "    running = True\n",
    "    execute_thread = threading.Thread(target=live)\n",
    "    execute_thread.start()\n",
    "\n",
    "def stop(c):\n",
    "    global running, execute_thread\n",
    "    log_widget.value = \"stop\"\n",
    "    running = False\n",
    "    execute_thread.stop()\n",
    "        \n",
    "run_button.on_click(run)\n",
    "stop_button.on_click(stop)\n",
    "\n",
    "# create a horizontal box container to place the sliders next to eachother\n",
    "run_widget = widgets.VBox([\n",
    "    widgets.HBox([throttle_slider, steering_gain,steering_offset]),\n",
    "    widgets.HBox([run_button, stop_button]),\n",
    "    result_widget,\n",
    "    log_widget\n",
    "])\n",
    "throttle_link = traitlets.link((throttle_slider, 'value'), (car, 'throttle'))\n",
    "steering_gain_link = traitlets.link((steering_gain, 'value'), (car, 'steering_gain'))\n",
    "steering_offset_link = traitlets.link((steering_offset, 'value'), (car, 'steering_offset'))\n",
    "\n",
    "# display the container in this cell's output\n",
    "display(run_widget)"
   ]
  },
  {
   "cell_type": "code",
   "execution_count": null,
   "metadata": {},
   "outputs": [],
   "source": []
  }
 ],
 "metadata": {
  "kernelspec": {
   "display_name": "Python 3",
   "language": "python",
   "name": "python3"
  },
  "language_info": {
   "codemirror_mode": {
    "name": "ipython",
    "version": 3
   },
   "file_extension": ".py",
   "mimetype": "text/x-python",
   "name": "python",
   "nbconvert_exporter": "python",
   "pygments_lexer": "ipython3",
   "version": "3.6.8"
  }
 },
 "nbformat": 4,
 "nbformat_minor": 2
}
