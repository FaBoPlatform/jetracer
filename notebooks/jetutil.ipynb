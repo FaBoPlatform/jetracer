{
 "cells": [
  {
   "cell_type": "markdown",
   "metadata": {},
   "source": [
    "# I2Cの認識確認\n",
    "I2Cの認識状況を確認する"
   ]
  },
  {
   "cell_type": "code",
   "execution_count": 2,
   "metadata": {},
   "outputs": [
    {
     "name": "stdout",
     "output_type": "stream",
     "text": [
      "     0  1  2  3  4  5  6  7  8  9  a  b  c  d  e  f\n",
      "00:          -- -- -- -- -- -- -- -- -- -- -- -- -- \n",
      "10: -- -- -- -- -- -- -- -- -- -- -- -- -- -- -- -- \n",
      "20: -- -- -- -- -- -- -- -- -- -- -- -- -- -- -- -- \n",
      "30: -- -- -- -- -- -- -- -- -- -- -- -- -- -- -- -- \n",
      "40: 40 -- -- -- -- -- -- -- -- -- -- -- -- -- -- -- \n",
      "50: -- -- -- -- -- -- -- -- -- -- -- -- -- -- -- -- \n",
      "60: -- -- -- -- -- -- -- -- -- -- -- -- -- -- -- -- \n",
      "70: 70 -- -- -- -- -- -- --                         \n"
     ]
    }
   ],
   "source": [
    "!i2cdetect -r -y 1"
   ]
  },
  {
   "cell_type": "markdown",
   "metadata": {},
   "source": [
    "# カメラの認識確認\n",
    "カメラの認識を確認する"
   ]
  },
  {
   "cell_type": "code",
   "execution_count": 10,
   "metadata": {},
   "outputs": [
    {
     "name": "stdout",
     "output_type": "stream",
     "text": [
      "[    3.495789] imx219 6-0010: tegracam sensor driver:imx219_v2.0.6\n",
      "[    5.010875] vi 54080000.vi: subdev imx219 6-0010 bound\n"
     ]
    }
   ],
   "source": [
    "!dmesg | grep imx219"
   ]
  },
  {
   "cell_type": "markdown",
   "metadata": {},
   "source": [
    "# カメラ関連のデーモンの再起動　\n",
    "\n",
    "カメラ関連デーモンの再起動"
   ]
  },
  {
   "cell_type": "code",
   "execution_count": 20,
   "metadata": {},
   "outputs": [
    {
     "name": "stdout",
     "output_type": "stream",
     "text": [
      "[sudo] password for jetson: "
     ]
    }
   ],
   "source": [
    "!echo jetson | sudo -S systemctl restart nvargus-daemon"
   ]
  },
  {
   "cell_type": "markdown",
   "metadata": {},
   "source": [
    "# カメラ関連のデーモンのログ確認\n",
    "カメラ関連のデーモンのログを確認する。ログの確認が終わったら、プロセスが戻ってこないので、■でユーザにより停止させる"
   ]
  },
  {
   "cell_type": "code",
   "execution_count": 21,
   "metadata": {},
   "outputs": [
    {
     "name": "stdout",
     "output_type": "stream",
     "text": [
      "-- Logs begin at Sun 2018-01-28 07:58:17 PST. --\n",
      "Dec 03 18:41:35 jetson systemd[1]: Stopped Argus daemon.\n",
      "Dec 03 18:41:35 jetson systemd[1]: Started Argus daemon.\n",
      "Dec 03 18:49:39 jetson systemd[1]: Stopping Argus daemon...\n",
      "Dec 03 18:49:39 jetson nvargus-daemon[6945]: === NVIDIA Libargus Camera Service (0.97.3)=== Listening for connections...\n",
      "Dec 03 18:49:39 jetson systemd[1]: Stopped Argus daemon.\n",
      "Dec 03 18:49:39 jetson systemd[1]: Started Argus daemon.\n",
      "Dec 03 18:56:28 jetson systemd[1]: Stopping Argus daemon...\n",
      "Dec 03 18:56:28 jetson nvargus-daemon[7029]: === NVIDIA Libargus Camera Service (0.97.3)=== Listening for connections...\n",
      "Dec 03 18:56:28 jetson systemd[1]: Stopped Argus daemon.\n",
      "Dec 03 18:56:28 jetson systemd[1]: Started Argus daemon.\n",
      "^C\n"
     ]
    }
   ],
   "source": [
    "!journalctl -u nvargus-daemon.service -f"
   ]
  },
  {
   "cell_type": "markdown",
   "metadata": {},
   "source": [
    "# 電力モードの変更(5Wモード)\n",
    "\n",
    "CPUが2つ起動"
   ]
  },
  {
   "cell_type": "code",
   "execution_count": 15,
   "metadata": {},
   "outputs": [
    {
     "name": "stdout",
     "output_type": "stream",
     "text": [
      "[sudo] password for jetson: "
     ]
    }
   ],
   "source": [
    "!echo jetson | sudo -S nvpmodel -m 1"
   ]
  },
  {
   "cell_type": "markdown",
   "metadata": {},
   "source": [
    "# 電力モードの変更(10Wモード)\n",
    "CPUが4つ起動"
   ]
  },
  {
   "cell_type": "code",
   "execution_count": 13,
   "metadata": {},
   "outputs": [
    {
     "name": "stdout",
     "output_type": "stream",
     "text": [
      "[sudo] password for jetson: "
     ]
    }
   ],
   "source": [
    "!echo jetson | sudo -S nvpmodel -m 0"
   ]
  },
  {
   "cell_type": "markdown",
   "metadata": {},
   "source": [
    "# 電力モードの確認\n",
    "電力モードの確認"
   ]
  },
  {
   "cell_type": "code",
   "execution_count": 1,
   "metadata": {},
   "outputs": [
    {
     "name": "stdout",
     "output_type": "stream",
     "text": [
      "NVPM VERB: Config file: /etc/nvpmodel.conf\n",
      "NVPM VERB: parsing done for /etc/nvpmodel.conf\n",
      "NVPM VERB: Current mode: NV Power Mode: 5W\n",
      "1\n",
      "NVPM VERB: PARAM CPU_ONLINE: ARG CORE_0: PATH /sys/devices/system/cpu/cpu0/online: REAL_VAL: 1 CONF_VAL: 1\n",
      "NVPM VERB: PARAM CPU_ONLINE: ARG CORE_1: PATH /sys/devices/system/cpu/cpu1/online: REAL_VAL: 1 CONF_VAL: 1\n",
      "NVPM VERB: PARAM CPU_ONLINE: ARG CORE_2: PATH /sys/devices/system/cpu/cpu2/online: REAL_VAL: 0 CONF_VAL: 0\n",
      "NVPM VERB: PARAM CPU_ONLINE: ARG CORE_3: PATH /sys/devices/system/cpu/cpu3/online: REAL_VAL: 0 CONF_VAL: 0\n",
      "NVPM VERB: PARAM CPU_A57: ARG MIN_FREQ: PATH /sys/devices/system/cpu/cpu0/cpufreq/scaling_min_freq: REAL_VAL: 921600 CONF_VAL: 0\n",
      "NVPM VERB: PARAM CPU_A57: ARG MAX_FREQ: PATH /sys/devices/system/cpu/cpu0/cpufreq/scaling_max_freq: REAL_VAL: 921600 CONF_VAL: 918000\n",
      "NVPM VERB: PARAM GPU_POWER_CONTROL_ENABLE: ARG GPU_PWR_CNTL_EN: PATH /sys/devices/gpu.0/power/control: REAL_VAL: auto CONF_VAL: on\n",
      "NVPM VERB: PARAM GPU: ARG MIN_FREQ: PATH /sys/devices/gpu.0/devfreq/57000000.gpu/min_freq: REAL_VAL: 76800000 CONF_VAL: 0\n",
      "NVPM VERB: PARAM GPU: ARG MAX_FREQ: PATH /sys/devices/gpu.0/devfreq/57000000.gpu/max_freq: REAL_VAL: 614400000 CONF_VAL: 640000000\n",
      "NVPM VERB: PARAM GPU_POWER_CONTROL_DISABLE: ARG GPU_PWR_CNTL_DIS: PATH /sys/devices/gpu.0/power/control: REAL_VAL: auto CONF_VAL: auto\n",
      "NVPM ERROR: Error opening /sys/kernel/nvpmodel_emc_cap/emc_iso_cap: 13\n",
      "NVPM ERROR: failed to read PARAM EMC: ARG MAX_FREQ: PATH /sys/kernel/nvpmodel_emc_cap/emc_iso_cap\n"
     ]
    }
   ],
   "source": [
    "!nvpmodel -q --verbose"
   ]
  },
  {
   "cell_type": "markdown",
   "metadata": {},
   "source": [
    "# メモリ使用量の確認\n",
    "\n",
    "freeコマンドでメモリ使用量を確認"
   ]
  },
  {
   "cell_type": "code",
   "execution_count": 3,
   "metadata": {},
   "outputs": [
    {
     "name": "stdout",
     "output_type": "stream",
     "text": [
      "              total        used        free      shared  buff/cache   available\n",
      "Mem:           3.9G        508M        2.8G         25M        541M        3.2G\n",
      "Swap:          4.0G          0B        4.0G\n"
     ]
    }
   ],
   "source": [
    "!free -h"
   ]
  },
  {
   "cell_type": "markdown",
   "metadata": {},
   "source": [
    "# クロックの高速化\n",
    "クロックを高速化します。"
   ]
  },
  {
   "cell_type": "code",
   "execution_count": 17,
   "metadata": {},
   "outputs": [
    {
     "name": "stdout",
     "output_type": "stream",
     "text": [
      "[sudo] password for jetson: "
     ]
    }
   ],
   "source": [
    "!echo jetson | sudo -S  jetson_clocks"
   ]
  },
  {
   "cell_type": "markdown",
   "metadata": {},
   "source": [
    "# クロックの状態の確認\n",
    "\n",
    "クロックの状態を表示します。"
   ]
  },
  {
   "cell_type": "code",
   "execution_count": 18,
   "metadata": {},
   "outputs": [
    {
     "name": "stdout",
     "output_type": "stream",
     "text": [
      "[sudo] password for jetson: SOC family:tegra210  Machine:jetson-nano\n",
      "Online CPUs: 0-3\n",
      "CPU Cluster Switching: Disabled\n",
      "cpu0: Online=1 Governor=schedutil MinFreq=921600 MaxFreq=921600 CurrentFreq=921600 IdleStates: WFI=0 c7=0 \n",
      "cpu1: Online=1 Governor=schedutil MinFreq=921600 MaxFreq=921600 CurrentFreq=921600 IdleStates: WFI=0 c7=0 \n",
      "cpu2: Online=1 Governor=schedutil MinFreq=921600 MaxFreq=921600 CurrentFreq=921600 IdleStates: WFI=0 c7=0 \n",
      "cpu3: Online=1 Governor=schedutil MinFreq=921600 MaxFreq=921600 CurrentFreq=921600 IdleStates: WFI=0 c7=0 \n",
      "GPU MinFreq=614400000 MaxFreq=614400000 CurrentFreq=614400000\n",
      "EMC MinFreq=204000000 MaxFreq=1600000000 CurrentFreq=1600000000 FreqOverride=1\n",
      "Fan: speed=255\n",
      "NV Power Mode: 5W\n"
     ]
    }
   ],
   "source": [
    "!echo jetson | sudo -S sudo jetson_clocks --show"
   ]
  },
  {
   "cell_type": "code",
   "execution_count": null,
   "metadata": {},
   "outputs": [],
   "source": []
  }
 ],
 "metadata": {
  "kernelspec": {
   "display_name": "Python 3",
   "language": "python",
   "name": "python3"
  },
  "language_info": {
   "codemirror_mode": {
    "name": "ipython",
    "version": 3
   },
   "file_extension": ".py",
   "mimetype": "text/x-python",
   "name": "python",
   "nbconvert_exporter": "python",
   "pygments_lexer": "ipython3",
   "version": "3.6.8"
  }
 },
 "nbformat": 4,
 "nbformat_minor": 2
}
