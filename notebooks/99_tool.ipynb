{
 "cells": [
  {
   "cell_type": "markdown",
   "id": "f23c84cb",
   "metadata": {},
   "source": [
    "## WiFiに接続\n",
    "\n",
    "Device 'wlan0' successfully activated with 'セッションID'<br>と出れば成功"
   ]
  },
  {
   "cell_type": "code",
   "execution_count": 5,
   "id": "2f2a6c8d",
   "metadata": {},
   "outputs": [],
   "source": [
    "SSID = \"WiFiスポットのSSDI\"\n",
    "PASS = \"WiFiスポットのパスワード\""
   ]
  },
  {
   "cell_type": "code",
   "execution_count": 6,
   "id": "baf6a1dc",
   "metadata": {},
   "outputs": [
    {
     "name": "stdout",
     "output_type": "stream",
     "text": [
      "Device 'wlan0' successfully activated with 'e59a8d65-93ea-455b-bc12-b5aed96d95fa'.\n"
     ]
    }
   ],
   "source": [
    "!echo \"jetson\" | sudo -S nmcli device wifi connect $SSID password $PASS ifname wlan0"
   ]
  },
  {
   "cell_type": "markdown",
   "id": "7b153c14",
   "metadata": {},
   "source": [
    "## I2Cの認識確認\n",
    "\n",
    "0x08: PWMの値の吸い上げ<br>\n",
    "0x3c: OLED　Display<br>\n",
    "0x40: PCA9685(PWMの出力)<br>\n",
    "0x70: PCA9685(PWMの出力)<br>"
   ]
  },
  {
   "cell_type": "code",
   "execution_count": 7,
   "id": "44e364fe",
   "metadata": {},
   "outputs": [
    {
     "name": "stdout",
     "output_type": "stream",
     "text": [
      "Jetson NANOを認識\n"
     ]
    }
   ],
   "source": [
    "import Jetson.GPIO as GPIO\n",
    "\n",
    "BOARD_NAME=GPIO.gpio_pin_data.get_data()[0]\n",
    "if BOARD_NAME == \"JETSON_NX\":\n",
    "    print(\"Jetson Xavier NXを認識\")\n",
    "    I2C_BUSNUM = 8\n",
    "elif BOARD_NAME == \"JETSON_XAVIER\":\n",
    "    print(\"Jetson AGX Xavierを認識\")\n",
    "    I2C_BUSNUM = 8\n",
    "elif BOARD_NAME == \"JETSON_NANO\":\n",
    "    print(\"Jetson NANOを認識\")\n",
    "    I2C_BUSNUM = 1"
   ]
  },
  {
   "cell_type": "code",
   "execution_count": 9,
   "id": "5d051adf",
   "metadata": {},
   "outputs": [
    {
     "name": "stdout",
     "output_type": "stream",
     "text": [
      "     0  1  2  3  4  5  6  7  8  9  a  b  c  d  e  f\n",
      "00:          -- -- -- -- -- 08 -- -- -- -- -- -- -- \n",
      "10: -- -- -- -- -- -- -- -- -- -- -- -- -- -- -- -- \n",
      "20: -- -- -- -- -- -- -- -- -- -- -- -- -- -- -- -- \n",
      "30: -- -- -- -- -- -- -- -- -- -- -- -- -- -- -- -- \n",
      "40: 40 -- -- -- -- -- -- -- -- -- -- -- -- -- -- -- \n",
      "50: -- -- -- -- -- -- -- -- -- -- -- -- -- -- -- -- \n",
      "60: -- -- -- -- -- -- -- -- -- -- -- -- -- -- -- -- \n",
      "70: 70 -- -- -- -- -- -- --                         \n"
     ]
    }
   ],
   "source": [
    "!i2cdetect -y -r $I2C_BUSNUM"
   ]
  },
  {
   "cell_type": "markdown",
   "id": "91d8bf4c",
   "metadata": {},
   "source": [
    "## Videoの認識確認\n",
    "\n",
    "/dev/video0がでてくれば認識している"
   ]
  },
  {
   "cell_type": "code",
   "execution_count": 11,
   "id": "eb95d7c3",
   "metadata": {},
   "outputs": [
    {
     "name": "stdout",
     "output_type": "stream",
     "text": [
      "/dev/video0\n"
     ]
    }
   ],
   "source": [
    "!ls /dev/video*"
   ]
  },
  {
   "cell_type": "markdown",
   "id": "daecc3ce",
   "metadata": {},
   "source": [
    "## 電力モードの確認\n",
    "\n",
    "MAXN 10Wモード<br>\n",
    "5W 5Wモード<br>"
   ]
  },
  {
   "cell_type": "code",
   "execution_count": 17,
   "id": "efe13548",
   "metadata": {},
   "outputs": [
    {
     "name": "stdout",
     "output_type": "stream",
     "text": [
      "[sudo] password for jetson: NVPM WARN: fan mode is not set!\n",
      "NV Power Mode: MAXN\n",
      "0\n"
     ]
    }
   ],
   "source": [
    "!echo \"jetson\" | sudo -S nvpmodel -q"
   ]
  },
  {
   "cell_type": "markdown",
   "id": "4397f245",
   "metadata": {},
   "source": [
    "## Notebookの復元\n",
    "\n",
    "研修時は、/home/jetson/ai86/にNotebookのバックアップを置いておき、間違って書き直した場合は、cpで上書きコピーする"
   ]
  },
  {
   "cell_type": "code",
   "execution_count": 1,
   "id": "2576940f",
   "metadata": {},
   "outputs": [
    {
     "name": "stdout",
     "output_type": "stream",
     "text": [
      "Archive:  /home/jetson/AI86.zip\n",
      "  inflating: /home/jetson/jetracer/notebooks/00_setting.ipynb  \n",
      "  inflating: /home/jetson/jetracer/notebooks/01_find_pwm.ipynb  \n",
      "  inflating: /home/jetson/jetracer/notebooks/02_interactive_regression.ipynb  \n",
      "  inflating: /home/jetson/jetracer/notebooks/03_optimize_model.ipynb  \n",
      "  inflating: /home/jetson/jetracer/notebooks/04_road_following.ipynb  \n",
      "  inflating: /home/jetson/jetracer/notebooks/05_road_following_live.ipynb  \n",
      "  inflating: /home/jetson/jetracer/notebooks/10_find_raw.ipynb  \n",
      "  inflating: /home/jetson/jetracer/notebooks/11_record_camera.ipynb  \n",
      "  inflating: /home/jetson/jetracer/notebooks/12_remark.ipynb  \n",
      "  inflating: /home/jetson/jetracer/notebooks/13_make_movie.ipynb  \n",
      "  inflating: /home/jetson/jetracer/notebooks/99_tool.ipynb  \n",
      "  inflating: /home/jetson/jetracer/notebooks/utils.py  \n",
      "  inflating: /home/jetson/jetracer/notebooks/xy_dataset.py  \n"
     ]
    }
   ],
   "source": [
    "!unzip -o /home/jetson/AI86.zip -d /home/jetson/jetracer/notebooks/"
   ]
  },
  {
   "cell_type": "code",
   "execution_count": null,
   "id": "3f3700aa",
   "metadata": {},
   "outputs": [],
   "source": []
  }
 ],
 "metadata": {
  "kernelspec": {
   "display_name": "Python 3",
   "language": "python",
   "name": "python3"
  },
  "language_info": {
   "codemirror_mode": {
    "name": "ipython",
    "version": 3
   },
   "file_extension": ".py",
   "mimetype": "text/x-python",
   "name": "python",
   "nbconvert_exporter": "python",
   "pygments_lexer": "ipython3",
   "version": "3.6.9"
  }
 },
 "nbformat": 4,
 "nbformat_minor": 5
}
