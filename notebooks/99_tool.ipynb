{
 "cells": [
  {
   "cell_type": "markdown",
   "id": "b9233c3a",
   "metadata": {},
   "source": [
    "## WiFiに接続\n",
    "\n",
    "Jetson Orin Nanoでは、WiFiの接続方法を下記コマンドで実施"
   ]
  },
  {
   "cell_type": "code",
   "execution_count": null,
   "id": "8abfb6c7",
   "metadata": {},
   "outputs": [],
   "source": [
    "SSID = \"akira\" # 接続するSSID\n",
    "PASS = \"11111111\" # パスワード"
   ]
  },
  {
   "cell_type": "code",
   "execution_count": null,
   "id": "9af80aad-44e3-4815-bad0-750fa00f2131",
   "metadata": {},
   "outputs": [],
   "source": [
    "!echo \"jetson\" | sudo -S nmcli connection add type wifi ifname wlan0 con-name \"jetracer-wpa2\" ssid $SSID wifi-sec.key-mgmt wpa-psk wifi-sec.psk $PASS"
   ]
  },
  {
   "cell_type": "code",
   "execution_count": null,
   "id": "edd5a0ca-1ef1-426d-9aaf-031c3c0ffa2a",
   "metadata": {},
   "outputs": [],
   "source": [
    "!nmcli connection show"
   ]
  },
  {
   "cell_type": "code",
   "execution_count": null,
   "id": "071c32de-0b1c-4e12-9472-450af0b294a0",
   "metadata": {},
   "outputs": [],
   "source": [
    "!echo \"jetson\" | sudo -S nmcli connection up \"jetracer-wpa2\" --ask"
   ]
  },
  {
   "cell_type": "code",
   "execution_count": null,
   "id": "cc418617-86b1-4bdf-a7c2-c995b7226422",
   "metadata": {},
   "outputs": [],
   "source": [
    "!ping -c 5 8.8.8.8"
   ]
  },
  {
   "cell_type": "markdown",
   "id": "e0889f5f",
   "metadata": {},
   "source": [
    "## I2Cの認識確認\n",
    "\n",
    "0x08: PWMの値の吸い上げ<br>\n",
    "0x3c: OLED　Display<br>\n",
    "0x40: PCA9685(PWMの出力)<br>\n",
    "0x70: PCA9685(PWMの出力)<br>"
   ]
  },
  {
   "cell_type": "code",
   "execution_count": null,
   "id": "16004ed6",
   "metadata": {},
   "outputs": [],
   "source": [
    "import Jetson.GPIO as GPIO\n",
    "\n",
    "BOARD_NAME=GPIO.gpio_pin_data.get_data()[0]\n",
    "if BOARD_NAME == \"JETSON_NX\":\n",
    "    print(\"Jetson Xavier NXを認識\")\n",
    "    I2C_BUSNUM = 8\n",
    "elif BOARD_NAME == \"JETSON_XAVIER\":\n",
    "    print(\"Jetson AGX Xavierを認識\")\n",
    "    I2C_BUSNUM = 8\n",
    "elif BOARD_NAME == \"JETSON_NANO\":\n",
    "    print(\"Jetson Nanoを認識\")\n",
    "    I2C_BUSNUM = 1\n",
    "elif BOARD_NAME == \"JETSON_ORIN\":\n",
    "    print(\"Jetson AGX Orinを認識\")\n",
    "    I2C_BUSNUM = 7\n",
    "elif BOARD_NAME == \"JETSON_ORIN_NANO\":\n",
    "    print(\"Jetson Orin Nanoを認識\")\n",
    "    I2C_BUSNUM = 7"
   ]
  },
  {
   "cell_type": "code",
   "execution_count": null,
   "id": "7370f8aa",
   "metadata": {},
   "outputs": [],
   "source": [
    "!i2cdetect -y -r $I2C_BUSNUM"
   ]
  },
  {
   "cell_type": "markdown",
   "id": "17eec49d",
   "metadata": {},
   "source": [
    "## Videoの認識確認\n",
    "\n",
    "/dev/video0がでてくれば認識している"
   ]
  },
  {
   "cell_type": "code",
   "execution_count": null,
   "id": "d61e3e31",
   "metadata": {},
   "outputs": [],
   "source": [
    "!ls /dev/video*"
   ]
  },
  {
   "cell_type": "markdown",
   "id": "a00dba0b",
   "metadata": {},
   "source": [
    "## 電力モードの確認\n",
    "\n",
    "MAXN 10Wモード<br>\n",
    "5W 5Wモード<br>"
   ]
  },
  {
   "cell_type": "code",
   "execution_count": null,
   "id": "77e0298a",
   "metadata": {},
   "outputs": [],
   "source": [
    "!echo \"jetson\" | sudo -S nvpmodel -q"
   ]
  },
  {
   "cell_type": "markdown",
   "id": "f13a6c7f",
   "metadata": {},
   "source": [
    "## Notebookの復元\n",
    "\n",
    "研修時は、/home/jetson/ai86/にNotebookのバックアップを置いておき、間違って書き直した場合は、cpで上書きコピーする"
   ]
  },
  {
   "cell_type": "code",
   "execution_count": null,
   "id": "cfa8b859",
   "metadata": {},
   "outputs": [],
   "source": [
    "!unzip -o /home/jetson/AI86.zip -d /home/jetson/jetracer/notebooks/"
   ]
  },
  {
   "cell_type": "code",
   "execution_count": null,
   "id": "0023ed4b",
   "metadata": {},
   "outputs": [],
   "source": [
    "!ifconfig -a"
   ]
  },
  {
   "cell_type": "code",
   "execution_count": null,
   "id": "2ceb1e1e",
   "metadata": {},
   "outputs": [],
   "source": []
  }
 ],
 "metadata": {
  "kernelspec": {
   "display_name": "Python 3 (ipykernel)",
   "language": "python",
   "name": "python3"
  },
  "language_info": {
   "codemirror_mode": {
    "name": "ipython",
    "version": 3
   },
   "file_extension": ".py",
   "mimetype": "text/x-python",
   "name": "python",
   "nbconvert_exporter": "python",
   "pygments_lexer": "ipython3",
   "version": "3.8.10"
  }
 },
 "nbformat": 4,
 "nbformat_minor": 5
}
