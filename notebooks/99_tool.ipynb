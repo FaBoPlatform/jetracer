{
 "cells": [
  {
   "cell_type": "markdown",
   "id": "b9233c3a",
   "metadata": {},
   "source": [
    "## WiFiに接続\n",
    "\n",
    "Device 'wlan0' successfully activated with 'セッションID'<br>と出れば成功"
   ]
  },
  {
   "cell_type": "code",
   "execution_count": 9,
   "id": "8abfb6c7",
   "metadata": {},
   "outputs": [],
   "source": [
    "SSID = \"akira\"\n",
    "PASS = \"11111111\""
   ]
  },
  {
   "cell_type": "code",
   "execution_count": 10,
   "id": "876dde54",
   "metadata": {},
   "outputs": [
    {
     "name": "stdout",
     "output_type": "stream",
     "text": [
      "Device 'wlan0' successfully activated with 'c93bec45-7dbe-43a2-aff3-b2bcfe0088e2'.\n"
     ]
    }
   ],
   "source": [
    "!echo \"jetson\" | sudo -S nmcli device wifi connect $SSID password $PASS ifname wlan0"
   ]
  },
  {
   "cell_type": "markdown",
   "id": "e0889f5f",
   "metadata": {},
   "source": [
    "## I2Cの認識確認\n",
    "\n",
    "0x08: PWMの値の吸い上げ<br>\n",
    "0x3c: OLED　Display<br>\n",
    "0x40: PCA9685(PWMの出力)<br>\n",
    "0x70: PCA9685(PWMの出力)<br>"
   ]
  },
  {
   "cell_type": "code",
   "execution_count": 7,
   "id": "16004ed6",
   "metadata": {},
   "outputs": [
    {
     "name": "stdout",
     "output_type": "stream",
     "text": [
      "Jetson NANOを認識\n"
     ]
    }
   ],
   "source": [
    "import Jetson.GPIO as GPIO\n",
    "\n",
    "BOARD_NAME=GPIO.gpio_pin_data.get_data()[0]\n",
    "if BOARD_NAME == \"JETSON_NX\":\n",
    "    print(\"Jetson Xavier NXを認識\")\n",
    "    I2C_BUSNUM = 8\n",
    "elif BOARD_NAME == \"JETSON_XAVIER\":\n",
    "    print(\"Jetson AGX Xavierを認識\")\n",
    "    I2C_BUSNUM = 8\n",
    "elif BOARD_NAME == \"JETSON_NANO\":\n",
    "    print(\"Jetson NANOを認識\")\n",
    "    I2C_BUSNUM = 1"
   ]
  },
  {
   "cell_type": "code",
   "execution_count": 9,
   "id": "7370f8aa",
   "metadata": {},
   "outputs": [
    {
     "name": "stdout",
     "output_type": "stream",
     "text": [
      "     0  1  2  3  4  5  6  7  8  9  a  b  c  d  e  f\n",
      "00:          -- -- -- -- -- 08 -- -- -- -- -- -- -- \n",
      "10: -- -- -- -- -- -- -- -- -- -- -- -- -- -- -- -- \n",
      "20: -- -- -- -- -- -- -- -- -- -- -- -- -- -- -- -- \n",
      "30: -- -- -- -- -- -- -- -- -- -- -- -- -- -- -- -- \n",
      "40: 40 -- -- -- -- -- -- -- -- -- -- -- -- -- -- -- \n",
      "50: -- -- -- -- -- -- -- -- -- -- -- -- -- -- -- -- \n",
      "60: -- -- -- -- -- -- -- -- -- -- -- -- -- -- -- -- \n",
      "70: 70 -- -- -- -- -- -- --                         \n"
     ]
    }
   ],
   "source": [
    "!i2cdetect -y -r $I2C_BUSNUM"
   ]
  },
  {
   "cell_type": "markdown",
   "id": "17eec49d",
   "metadata": {},
   "source": [
    "## Videoの認識確認\n",
    "\n",
    "/dev/video0がでてくれば認識している"
   ]
  },
  {
   "cell_type": "code",
   "execution_count": 11,
   "id": "d61e3e31",
   "metadata": {},
   "outputs": [
    {
     "name": "stdout",
     "output_type": "stream",
     "text": [
      "/dev/video0\n"
     ]
    }
   ],
   "source": [
    "!ls /dev/video*"
   ]
  },
  {
   "cell_type": "markdown",
   "id": "a00dba0b",
   "metadata": {},
   "source": [
    "## 電力モードの確認\n",
    "\n",
    "MAXN 10Wモード<br>\n",
    "5W 5Wモード<br>"
   ]
  },
  {
   "cell_type": "code",
   "execution_count": 17,
   "id": "77e0298a",
   "metadata": {},
   "outputs": [
    {
     "name": "stdout",
     "output_type": "stream",
     "text": [
      "[sudo] password for jetson: NVPM WARN: fan mode is not set!\n",
      "NV Power Mode: MAXN\n",
      "0\n"
     ]
    }
   ],
   "source": [
    "!echo \"jetson\" | sudo -S nvpmodel -q"
   ]
  },
  {
   "cell_type": "markdown",
   "id": "f13a6c7f",
   "metadata": {},
   "source": [
    "## Notebookの復元\n",
    "\n",
    "研修時は、/home/jetson/ai86/にNotebookのバックアップを置いておき、間違って書き直した場合は、cpで上書きコピーする"
   ]
  },
  {
   "cell_type": "code",
   "execution_count": 1,
   "id": "cfa8b859",
   "metadata": {},
   "outputs": [
    {
     "name": "stdout",
     "output_type": "stream",
     "text": [
      "Archive:  /home/jetson/AI86.zip\n",
      "  inflating: /home/jetson/jetracer/notebooks/00_setting.ipynb  \n",
      "  inflating: /home/jetson/jetracer/notebooks/01_find_pwm.ipynb  \n",
      "  inflating: /home/jetson/jetracer/notebooks/02_interactive_regression.ipynb  \n",
      "  inflating: /home/jetson/jetracer/notebooks/03_optimize_model.ipynb  \n",
      "  inflating: /home/jetson/jetracer/notebooks/04_road_following.ipynb  \n",
      "  inflating: /home/jetson/jetracer/notebooks/05_road_following_live.ipynb  \n",
      "  inflating: /home/jetson/jetracer/notebooks/10_find_raw.ipynb  \n",
      "  inflating: /home/jetson/jetracer/notebooks/11_record_camera.ipynb  \n",
      "  inflating: /home/jetson/jetracer/notebooks/12_remark.ipynb  \n",
      "  inflating: /home/jetson/jetracer/notebooks/13_make_movie.ipynb  \n",
      "  inflating: /home/jetson/jetracer/notebooks/99_tool.ipynb  \n",
      "  inflating: /home/jetson/jetracer/notebooks/utils.py  \n",
      "  inflating: /home/jetson/jetracer/notebooks/xy_dataset.py  \n"
     ]
    }
   ],
   "source": [
    "!unzip -o /home/jetson/AI86.zip -d /home/jetson/jetracer/notebooks/"
   ]
  },
  {
   "cell_type": "code",
   "execution_count": 11,
   "id": "0023ed4b",
   "metadata": {},
   "outputs": [
    {
     "name": "stdout",
     "output_type": "stream",
     "text": [
      "docker0: flags=4099<UP,BROADCAST,MULTICAST>  mtu 1500\n",
      "        inet 172.17.0.1  netmask 255.255.0.0  broadcast 172.17.255.255\n",
      "        ether 02:42:d2:77:62:c4  txqueuelen 0  (Ethernet)\n",
      "        RX packets 0  bytes 0 (0.0 B)\n",
      "        RX errors 0  dropped 0  overruns 0  frame 0\n",
      "        TX packets 0  bytes 0 (0.0 B)\n",
      "        TX errors 0  dropped 0 overruns 0  carrier 0  collisions 0\n",
      "\n",
      "dummy0: flags=130<BROADCAST,NOARP>  mtu 1500\n",
      "        ether 1a:05:0a:61:dc:7d  txqueuelen 1000  (Ethernet)\n",
      "        RX packets 0  bytes 0 (0.0 B)\n",
      "        RX errors 0  dropped 0  overruns 0  frame 0\n",
      "        TX packets 0  bytes 0 (0.0 B)\n",
      "        TX errors 0  dropped 0 overruns 0  carrier 0  collisions 0\n",
      "\n",
      "eth0: flags=4099<UP,BROADCAST,MULTICAST>  mtu 1500\n",
      "        ether 48:b0:2d:07:87:85  txqueuelen 1000  (Ethernet)\n",
      "        RX packets 0  bytes 0 (0.0 B)\n",
      "        RX errors 0  dropped 0  overruns 0  frame 0\n",
      "        TX packets 0  bytes 0 (0.0 B)\n",
      "        TX errors 0  dropped 0 overruns 0  carrier 0  collisions 0\n",
      "        device interrupt 37  \n",
      "\n",
      "l4tbr0: flags=4163<UP,BROADCAST,RUNNING,MULTICAST>  mtu 1500\n",
      "        inet 192.168.55.1  netmask 255.255.255.0  broadcast 192.168.55.255\n",
      "        inet6 fe80::2802:1fff:fe1c:5bfd  prefixlen 64  scopeid 0x20<link>\n",
      "        inet6 fe80::1  prefixlen 128  scopeid 0x20<link>\n",
      "        ether 2a:02:1f:1c:5b:fd  txqueuelen 1000  (Ethernet)\n",
      "        RX packets 1064  bytes 310750 (310.7 KB)\n",
      "        RX errors 0  dropped 0  overruns 0  frame 0\n",
      "        TX packets 1254  bytes 1048265 (1.0 MB)\n",
      "        TX errors 0  dropped 0 overruns 0  carrier 0  collisions 0\n",
      "\n",
      "lo: flags=73<UP,LOOPBACK,RUNNING>  mtu 65536\n",
      "        inet 127.0.0.1  netmask 255.0.0.0\n",
      "        inet6 ::1  prefixlen 128  scopeid 0x10<host>\n",
      "        loop  txqueuelen 1  (Local Loopback)\n",
      "        RX packets 1522  bytes 237236 (237.2 KB)\n",
      "        RX errors 0  dropped 0  overruns 0  frame 0\n",
      "        TX packets 1522  bytes 237236 (237.2 KB)\n",
      "        TX errors 0  dropped 0 overruns 0  carrier 0  collisions 0\n",
      "\n",
      "rndis0: flags=4163<UP,BROADCAST,RUNNING,MULTICAST>  mtu 1500\n",
      "        inet6 fe80::2802:1fff:fe1c:5bfd  prefixlen 64  scopeid 0x20<link>\n",
      "        ether 2a:02:1f:1c:5b:fd  txqueuelen 1000  (Ethernet)\n",
      "        RX packets 0  bytes 0 (0.0 B)\n",
      "        RX errors 0  dropped 0  overruns 0  frame 0\n",
      "        TX packets 0  bytes 0 (0.0 B)\n",
      "        TX errors 0  dropped 0 overruns 0  carrier 0  collisions 0\n",
      "\n",
      "usb0: flags=4163<UP,BROADCAST,RUNNING,MULTICAST>  mtu 1500\n",
      "        inet6 fe80::2802:1fff:fe1c:5bff  prefixlen 64  scopeid 0x20<link>\n",
      "        ether 2a:02:1f:1c:5b:ff  txqueuelen 1000  (Ethernet)\n",
      "        RX packets 1078  bytes 316792 (316.7 KB)\n",
      "        RX errors 0  dropped 0  overruns 0  frame 0\n",
      "        TX packets 685  bytes 1092432 (1.0 MB)\n",
      "        TX errors 0  dropped 0 overruns 0  carrier 0  collisions 0\n",
      "\n",
      "wlan0: flags=4163<UP,BROADCAST,RUNNING,MULTICAST>  mtu 1500\n",
      "        inet 172.20.10.3  netmask 255.255.255.240  broadcast 172.20.10.15\n",
      "        inet6 fe80::ed04:832f:25e7:a3e3  prefixlen 64  scopeid 0x20<link>\n",
      "        inet6 240a:61:3043:ce74:c020:8fce:16f3:6668  prefixlen 64  scopeid 0x0<global>\n",
      "        inet6 240a:61:3043:ce74:a401:f97f:d1db:f6b0  prefixlen 64  scopeid 0x0<global>\n",
      "        ether 70:66:55:b1:1a:e9  txqueuelen 1000  (Ethernet)\n",
      "        RX packets 857  bytes 1282652 (1.2 MB)\n",
      "        RX errors 0  dropped 0  overruns 0  frame 0\n",
      "        TX packets 453  bytes 59750 (59.7 KB)\n",
      "        TX errors 0  dropped 0 overruns 0  carrier 0  collisions 0\n",
      "\n"
     ]
    }
   ],
   "source": [
    "!ifconfig -a"
   ]
  },
  {
   "cell_type": "code",
   "execution_count": null,
   "id": "2ceb1e1e",
   "metadata": {},
   "outputs": [],
   "source": []
  }
 ],
 "metadata": {
  "kernelspec": {
   "display_name": "Python 3",
   "language": "python",
   "name": "python3"
  },
  "language_info": {
   "codemirror_mode": {
    "name": "ipython",
    "version": 3
   },
   "file_extension": ".py",
   "mimetype": "text/x-python",
   "name": "python",
   "nbconvert_exporter": "python",
   "pygments_lexer": "ipython3",
   "version": "3.6.9"
  }
 },
 "nbformat": 4,
 "nbformat_minor": 5
}
