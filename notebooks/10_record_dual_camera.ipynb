{
 "cells": [
  {
   "cell_type": "markdown",
   "metadata": {},
   "source": [
    "# 走行の録画(データセット用のデータの作成)"
   ]
  },
  {
   "cell_type": "markdown",
   "metadata": {},
   "source": [
    "2つのカメラを同時に起動し、データセット用のカメラ画像を保存します。"
   ]
  },
  {
   "cell_type": "markdown",
   "metadata": {},
   "source": [
    "### Boardを判定"
   ]
  },
  {
   "cell_type": "code",
   "execution_count": 1,
   "metadata": {},
   "outputs": [
    {
     "name": "stdout",
     "output_type": "stream",
     "text": [
      "------------------------------------------------------------\n",
      "Jetson Orin Nanoを認識: I2Cバス番号: 7, Powerモード: MODE_15W(0)に設定します。\n",
      "------------------------------------------------------------\n"
     ]
    }
   ],
   "source": [
    "import Jetson.GPIO as GPIO\n",
    "\n",
    "BOARD_NAME = GPIO.gpio_pin_data.get_data()[0]\n",
    "\n",
    "mode_descriptions = {\n",
    "    \"JETSON_NX\": [\"15W_2CORE\", \"15W_4CORE\", \"15W_6CORE\", \"10W_2CORE\", \"10W_4CORE\"],\n",
    "    \"JETSON_XAVIER\": [\"MAXN\", \"MODE_10W\", \"MODE_15W\", \"MODE_30W\"],\n",
    "    \"JETSON_NANO\": [\"MAXN\", \"5W\"],\n",
    "    \"JETSON_ORIN\": [\"MAXN\", \"MODE_15W\", \"MODE_30W\", \"MODE_40W\"],\n",
    "    \"JETSON_ORIN_NANO\": [\"MODE_15W\", \"MODE_7W\"]\n",
    "}\n",
    "\n",
    "product_names = {\n",
    "    \"JETSON_NX\": \"Jetson Xavier NX\",\n",
    "    \"JETSON_XAVIER\": \"Jetson AGX Xavier\",\n",
    "    \"JETSON_NANO\": \"Jetson Nano\",\n",
    "    \"JETSON_ORIN\": \"Jetson AGX Orin\",\n",
    "    \"JETSON_ORIN_NANO\": \"Jetson Orin Nano\"\n",
    "}\n",
    "\n",
    "# ボードごとのI2Cバス番号と初期Powerモードを定義する\n",
    "board_settings = {\n",
    "    \"JETSON_NX\": (8, 3),\n",
    "    \"JETSON_XAVIER\": (8, 2),\n",
    "    \"JETSON_NANO\": (1, 0),\n",
    "    \"JETSON_ORIN\": (7, 0),\n",
    "    \"JETSON_ORIN_NANO\": (7, 0)\n",
    "}\n",
    "\n",
    "i2c_busnum, power_mode = board_settings.get(BOARD_NAME, (None, None))\n",
    "mode_description = mode_descriptions.get(BOARD_NAME, [])\n",
    "product_name = product_names.get(BOARD_NAME, \"未知のボード\")\n",
    "\n",
    "if power_mode is not None and power_mode < len(mode_description):\n",
    "    mode_str = mode_description[power_mode]\n",
    "    print(\"------------------------------------------------------------\")\n",
    "    print(f\"{product_name}を認識: I2Cバス番号: {i2c_busnum}, Powerモード: {mode_str}({power_mode})に設定します。\")\n",
    "    print(\"------------------------------------------------------------\")\n",
    "else:\n",
    "    print(\"未知のボードまたは不正なモードです。\")"
   ]
  },
  {
   "cell_type": "code",
   "execution_count": 2,
   "metadata": {},
   "outputs": [
    {
     "name": "stdout",
     "output_type": "stream",
     "text": [
      "Docker起動のため電力モードは変更できません。\n"
     ]
    }
   ],
   "source": [
    "if (product_name == \"Jetson Orin Nano\") or (product_name == \"Jetson AGX Orin\"):\n",
    "    print(\"Docker起動のため電力モードは変更できません。\")\n",
    "else:\n",
    "    !echo \"jetson\" | sudo -S nvpmodel -m $power_mode"
   ]
  },
  {
   "cell_type": "code",
   "execution_count": 3,
   "metadata": {},
   "outputs": [
    {
     "name": "stdout",
     "output_type": "stream",
     "text": [
      "[sudo] password for jetson: NV Power Mode: 15W\n",
      "0\n"
     ]
    }
   ],
   "source": [
    "!echo \"jetson\" | sudo -S nvpmodel -q"
   ]
  },
  {
   "cell_type": "code",
   "execution_count": 4,
   "metadata": {},
   "outputs": [
    {
     "name": "stdout",
     "output_type": "stream",
     "text": [
      "Docker起動のためjetson_clocksは起動できません。\n"
     ]
    }
   ],
   "source": [
    "if (product_name == \"Jetson Orin Nano\") or (product_name == \"Jetson AGX Orin\"):\n",
    "    print(\"Docker起動のためjetson_clocksは起動できません。\")\n",
    "else:\n",
    "    !echo \"jetson\" | sudo -S jetson_clocks"
   ]
  },
  {
   "cell_type": "code",
   "execution_count": 5,
   "metadata": {},
   "outputs": [
    {
     "name": "stdout",
     "output_type": "stream",
     "text": [
      "     0  1  2  3  4  5  6  7  8  9  a  b  c  d  e  f\n",
      "00:          -- -- -- -- -- 08 -- -- -- -- -- -- -- \n",
      "10: -- -- -- -- -- -- -- -- -- -- -- -- -- -- -- -- \n",
      "20: -- -- -- -- -- -- -- -- -- -- -- -- -- -- -- -- \n",
      "30: -- -- -- -- -- -- -- -- -- -- -- -- 3c -- -- -- \n",
      "40: 40 -- -- -- -- -- -- -- -- -- -- -- -- -- -- -- \n",
      "50: -- -- -- -- -- -- -- -- -- -- -- -- -- -- -- -- \n",
      "60: -- -- -- -- -- -- -- -- -- -- -- -- -- -- -- -- \n",
      "70: 70 -- -- -- -- -- -- --                         \n"
     ]
    }
   ],
   "source": [
    "!i2cdetect -y -r $i2c_busnum"
   ]
  },
  {
   "cell_type": "code",
   "execution_count": 6,
   "metadata": {},
   "outputs": [
    {
     "name": "stdout",
     "output_type": "stream",
     "text": [
      "/dev/video0  /dev/video1\n"
     ]
    }
   ],
   "source": [
    "!ls /dev/video*"
   ]
  },
  {
   "cell_type": "code",
   "execution_count": 7,
   "metadata": {},
   "outputs": [
    {
     "ename": "ModuleNotFoundError",
     "evalue": "No module named 'csi_camera'",
     "output_type": "error",
     "traceback": [
      "\u001b[0;31m---------------------------------------------------------------------------\u001b[0m",
      "\u001b[0;31mModuleNotFoundError\u001b[0m                       Traceback (most recent call last)",
      "Cell \u001b[0;32mIn[7], line 3\u001b[0m\n\u001b[1;32m      1\u001b[0m \u001b[38;5;66;03m#from jetcam.csi_camera import CSICamera\u001b[39;00m\n\u001b[1;32m      2\u001b[0m \u001b[38;5;66;03m#from jetcam.utils import bgr8_to_jpeg\u001b[39;00m\n\u001b[0;32m----> 3\u001b[0m \u001b[38;5;28;01mfrom\u001b[39;00m \u001b[38;5;21;01mcsi_camera\u001b[39;00m \u001b[38;5;28;01mimport\u001b[39;00m CSICamera\n\u001b[1;32m      4\u001b[0m \u001b[38;5;28;01mfrom\u001b[39;00m \u001b[38;5;21;01mutils\u001b[39;00m \u001b[38;5;28;01mimport\u001b[39;00m bgr8_to_jpeg\n\u001b[1;32m      6\u001b[0m \u001b[38;5;28;01mif\u001b[39;00m (product_name \u001b[38;5;241m==\u001b[39m \u001b[38;5;124m\"\u001b[39m\u001b[38;5;124mJetson Orin Nano\u001b[39m\u001b[38;5;124m\"\u001b[39m) \u001b[38;5;129;01mor\u001b[39;00m (product_name \u001b[38;5;241m==\u001b[39m \u001b[38;5;124m\"\u001b[39m\u001b[38;5;124mJetson AGX Orin\u001b[39m\u001b[38;5;124m\"\u001b[39m):\n",
      "\u001b[0;31mModuleNotFoundError\u001b[0m: No module named 'csi_camera'"
     ]
    }
   ],
   "source": [
    "from jetcam.csi_camera import CSICamera\n",
    "from jetcam.utils import bgr8_to_jpeg\n",
    "#from csi_camera import CSICamera\n",
    "#from utils import bgr8_to_jpeg\n",
    "\n",
    "if (product_name == \"Jetson Orin Nano\") or (product_name == \"Jetson AGX Orin\"):\n",
    "    cam0 = CSICamera(capture_device=0,width=224, height=224, capture_fps=30)\n",
    "    cam1 = CSICamera(capture_device=1,width=224, height=224, capture_fps=30)\n",
    "else:\n",
    "    cam0 = CSICamera(capture_device=0,width=224, height=224, capture_fps=30)\n",
    "    cam1 = CSICamera(capture_device=1,width=224, height=224, capture_fps=30)"
   ]
  },
  {
   "cell_type": "code",
   "execution_count": null,
   "metadata": {},
   "outputs": [],
   "source": [
    "cam0.running = False\n",
    "cam1.running = False"
   ]
  },
  {
   "cell_type": "code",
   "execution_count": 8,
   "metadata": {},
   "outputs": [],
   "source": [
    "import ipywidgets\n",
    "from ipywidgets import Button, Layout, Textarea, HBox, VBox, Label\n",
    "import subprocess\n",
    "import os\n",
    "import cv2\n",
    "import time\n",
    "import threading\n",
    "import smbus\n",
    "import json\n",
    "\n",
    "i2c = smbus.SMBus(i2c_busnum)\n",
    "addr = 0x08\n",
    "count = 0\n",
    "current_path = os.getcwd()"
   ]
  },
  {
   "cell_type": "code",
   "execution_count": 10,
   "metadata": {},
   "outputs": [],
   "source": [
    "def map_rc(x, in_min, in_max, out_min, out_max):\n",
    "    return (x - in_min) * (out_max - out_min) // (in_max - in_min) + out_min\n",
    "\n",
    "def live():\n",
    "    global count,running,DIR,i2c,cam0,cam1,cv2,annotation,num,current_path\n",
    "    \n",
    "    save_xy_dir0 = os.path.join(current_path, task_widget.value, dataset_widget.value+\"_cam0\", \"xy\")\n",
    "    save_xy_dir1 = os.path.join(current_path, task_widget.value, dataset_widget.value+\"_cam1\", \"xy\")\n",
    "    save_speed_dir0 = os.path.join(current_path, task_widget.value, dataset_widget.value+\"_cam0\", \"speed\")\n",
    "    save_speed_dir1 = os.path.join(current_path, task_widget.value, dataset_widget.value+\"_cam1\", \"speed\")\n",
    "\n",
    "    if not os.path.exists(save_xy_dir0):\n",
    "        subprocess.call(['mkdir', '-p', save_xy_dir0])\n",
    "    if not os.path.exists(save_xy_dir1):\n",
    "        subprocess.call(['mkdir', '-p', save_xy_dir1])\n",
    "\n",
    "    if not os.path.exists(save_speed_dir0):\n",
    "        subprocess.call(['mkdir', '-p', save_speed_dir0])\n",
    "    if not os.path.exists(save_speed_dir1):\n",
    "        subprocess.call(['mkdir', '-p', save_speed_dir1])\n",
    "\n",
    "    write_log(\"録画を開始しました。\")\n",
    "    count = 0\n",
    "    num = 0\n",
    "    start_time = time.time()\n",
    "    while running:\n",
    "        img0 = cam0.read()\n",
    "        img1 = cam1.read()\n",
    "        if annotation == True:\n",
    "            try:\n",
    "                data = i2c.read_i2c_block_data(addr, 0x01, 12)\n",
    "                xy = data[0] << 24 | data[1] << 16 | data[2] << 8 | data[3]\n",
    "                xy = map_rc(xy, left, right, 0, 224)\n",
    "                if xy < 0:\n",
    "                    xy = 0\n",
    "                elif xy > 224:\n",
    "                    xy = 224\n",
    "                xy_img_name = \"{}_{}_{:0=5}.jpg\".format(xy, 112, count)\n",
    "                xy_image_path0 = os.path.join(save_xy_dir0, xy_img_name)\n",
    "                cv2.imwrite(xy_image_path0, img0)\n",
    "                xy_image_path1 = os.path.join(save_xy_dir1, xy_img_name)\n",
    "                cv2.imwrite(xy_image_path1, img1)\n",
    "                speed = data[4] << 24 | data[5] << 16 | data[6] << 8 | data[7]\n",
    "                speed = map_rc(speed, stop, front, 0, 224)\n",
    "                if speed < 0:\n",
    "                    speed = 0\n",
    "                elif speed > 224:\n",
    "                    speed = 224\n",
    "                speed_img_name = \"{}_{}_{:0=5}.jpg\".format(0, speed, count)\n",
    "                speed_image_path0 = os.path.join(save_speed_dir0, speed_img_name)\n",
    "                cv2.imwrite(speed_image_path0, img0)\n",
    "                speed_image_path1 = os.path.join(save_speed_dir1, speed_img_name)\n",
    "                cv2.imwrite(speed_image_path1, img1)\n",
    "                \n",
    "                \n",
    "                num+=1\n",
    "                if time.time() - start_time > 3.0:\n",
    "                    fps = num / 3.0\n",
    "                    write_log(f\"FPS: {fps:.1f} (3秒ごとに表示)\")\n",
    "                    start_time = time.time()\n",
    "                    fps = 0\n",
    "                    num = 0\n",
    "                count+=1\n",
    "            except Exception as e:\n",
    "                write_log(f\"An error occurred: {e}\")\n",
    "        else:\n",
    "            #if count % 2 == 0:\n",
    "            img_name = \"{}_{}_{:0=5}.jpg\".format(0,0,count)\n",
    "            image_path0 = os.path.join(save_xy_dir0, img_name)\n",
    "            cv2.imwrite(image_path0, img0)\n",
    "            image_path1 = os.path.join(save_xy_dir1, img_name)\n",
    "            cv2.imwrite(image_path1, img1)\n",
    "            num+=1\n",
    "            if time.time() - start_time > 3.0:\n",
    "                fps = num / 3.0\n",
    "                write_log(f\"FPS: {fps:.1f} (3秒ごとに表示)\")\n",
    "                start_time = time.time()\n",
    "                fps = 0\n",
    "                num = 0\n",
    "            count+=1\n",
    "    \n",
    "def record(change):\n",
    "    global running, execute_thread\n",
    "    if dataset_widget.value == \"\":\n",
    "        write_log(\"保存先 dataset名を指定してください。\")\n",
    "    else:\n",
    "        running = True\n",
    "        execute_thread = threading.Thread(target=live)\n",
    "        execute_thread.start()\n",
    "\n",
    "def stop_record(change):\n",
    "    global count, running, execute_thread, num\n",
    "    running = False\n",
    "    execute_thread.join()\n",
    "    write_log(str(count) + \"枚の画像を生成し、録画を終了しました。\")"
   ]
  },
  {
   "cell_type": "code",
   "execution_count": 11,
   "metadata": {},
   "outputs": [
    {
     "name": "stdout",
     "output_type": "stream",
     "text": [
      "Don't exit raw_param.json\n"
     ]
    }
   ],
   "source": [
    "try:\n",
    "    with open('raw_params.json') as f:\n",
    "        json_str = json.load(f)\n",
    "\n",
    "        stop = json_str[\"raw_speed\"][\"stop\"]\n",
    "        front = json_str[\"raw_speed\"][\"front\"]\n",
    "        back = json_str[\"raw_speed\"][\"back\"]\n",
    "        left = json_str[\"raw_steering\"][\"left\"]\n",
    "        center = json_str[\"raw_steering\"][\"center\"]\n",
    "        right = json_str[\"raw_steering\"][\"right\"]\n",
    "except:\n",
    "    print(\"Don't exit raw_param.json\")"
   ]
  },
  {
   "cell_type": "code",
   "execution_count": 12,
   "metadata": {},
   "outputs": [],
   "source": [
    "l = Layout(flex='0 1 auto', height='100px', min_height='100px', width='auto')\n",
    "process_widget = ipywidgets.Textarea(description='ログ', value='', layout=l)\n",
    "\n",
    "process_no = 0\n",
    "def write_log(msg):\n",
    "    global process_widget, process_no\n",
    "    process_no = process_no + 1\n",
    "    process_widget.value = str(process_no) + \": \" + msg + \"\\n\" + process_widget.value"
   ]
  },
  {
   "cell_type": "code",
   "execution_count": 13,
   "metadata": {},
   "outputs": [],
   "source": [
    "CATEGORIES = ['xy','speed']\n",
    "TASK = ['camera']\n",
    "DIR = \"./\"\n",
    "\n",
    "category_widget = ipywidgets.Dropdown(options=CATEGORIES, description='category')\n",
    "dataset_widget = ipywidgets.Text(description='dataset')\n",
    "task_widget = ipywidgets.Dropdown(options=TASK, description='task')\n",
    "start_button = ipywidgets.Button(description='Record')\n",
    "stop_button = ipywidgets.Button(description='Stop')\n",
    "annotation_box = ipywidgets.Checkbox(False, description='Auto Annotation')\n",
    "\n",
    "start_button.on_click(record)\n",
    "stop_button.on_click(stop_record)\n",
    "\n",
    "annotation = False\n",
    "def on_annotation(c):\n",
    "    global annotation\n",
    "    annotation ^= True\n",
    "\n",
    "annotation_box.observe(on_annotation)"
   ]
  },
  {
   "cell_type": "code",
   "execution_count": 14,
   "metadata": {},
   "outputs": [],
   "source": [
    "import time\n",
    "\n",
    "release_button = ipywidgets.Button(description='Camera開放')\n",
    "\n",
    "\n",
    "def stop_camera(c):\n",
    "    global cam0,cam1\n",
    "    cam0.running = False\n",
    "    time.sleep(1)\n",
    "    cam0.cap.release()\n",
    "    write_log(\"カメラ0を開放しました。\")\n",
    "    cam1.running = False\n",
    "    time.sleep(1)\n",
    "    cam1.cap.release()\n",
    "    write_log(\"カメラ1を開放しました。\")\n",
    "\n",
    "release_button.on_click(stop_camera)"
   ]
  },
  {
   "cell_type": "code",
   "execution_count": 15,
   "metadata": {},
   "outputs": [
    {
     "data": {
      "application/vnd.jupyter.widget-view+json": {
       "model_id": "43944fcd95ce4f5d892526cf86f5f6da",
       "version_major": 2,
       "version_minor": 0
      },
      "text/plain": [
       "VBox(children=(HTML(value='<hr style=\"border-color:gray;margin:10px 0\"/>'), HTML(value='<b>【1.カメラの録画】</b><br>デ…"
      ]
     },
     "metadata": {},
     "output_type": "display_data"
    }
   ],
   "source": [
    "separator = ipywidgets.HTML('<hr style=\"border-color:gray;margin:10px 0\"/>')\n",
    "title1 = ipywidgets.HTML('<b>【1.カメラの録画】</b><br>データセット用の走行データを保存できます。走行データはcameraフォルダにデータが保存されます。Auto Annotationにチェックをいれると操作の値も保存できます。JetRacerでは、Auto Annotationでつけたデータセットの学習はうまくいきません。参考値を取得する用途でのみ使用してください。')\n",
    "title2 = ipywidgets.HTML('<b>【2.カメラの開放処理】</b><br>走行データの収集が完了したらカメラの開放処理を実行します。')\n",
    "\n",
    "data_collection_widget = ipywidgets.VBox([\n",
    "    separator,\n",
    "    title1,\n",
    "    task_widget,\n",
    "    dataset_widget,\n",
    "    annotation_box,\n",
    "    ipywidgets.HBox([start_button, stop_button]),\n",
    "    process_widget,\n",
    "    separator,\n",
    "    title2,\n",
    "    release_button,\n",
    "    process_widget\n",
    "])\n",
    "\n",
    "display(data_collection_widget)"
   ]
  },
  {
   "cell_type": "code",
   "execution_count": null,
   "metadata": {},
   "outputs": [],
   "source": []
  },
  {
   "cell_type": "code",
   "execution_count": null,
   "metadata": {},
   "outputs": [],
   "source": []
  },
  {
   "cell_type": "code",
   "execution_count": null,
   "metadata": {},
   "outputs": [],
   "source": []
  },
  {
   "cell_type": "code",
   "execution_count": null,
   "metadata": {},
   "outputs": [],
   "source": []
  }
 ],
 "metadata": {
  "kernelspec": {
   "display_name": "Python 3 (ipykernel)",
   "language": "python",
   "name": "python3"
  },
  "language_info": {
   "codemirror_mode": {
    "name": "ipython",
    "version": 3
   },
   "file_extension": ".py",
   "mimetype": "text/x-python",
   "name": "python",
   "nbconvert_exporter": "python",
   "pygments_lexer": "ipython3",
   "version": "3.8.10"
  }
 },
 "nbformat": 4,
 "nbformat_minor": 4
}
